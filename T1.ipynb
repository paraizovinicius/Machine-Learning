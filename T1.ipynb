{
 "cells": [
  {
   "cell_type": "markdown",
   "metadata": {},
   "source": [
    "<a id=\"top\"></a>\n",
    "<div class=\"list-group\" id=\"list-tab\" role=\"tablist\">\n",
    "<h1 class=\"list-group-item list-group-item-action active\" data-toggle=\"list\" style='background:#005097; border:0' role=\"tab\" aria-controls=\"home\"><center>APRENDIZADO DE MÁQUINA (CIC1205/GCC1932) - Trabalho 1</center></h1>\n",
    "\n",
    "- Nome completo: <NOME_COMPLETO>\n",
    "- [Link para vídeo](<LINK_VIDEO>)"
   ]
  },
  {
   "cell_type": "markdown",
   "metadata": {},
   "source": [
    "# (1) Predição de pagamento de empréstimos"
   ]
  },
  {
   "cell_type": "markdown",
   "metadata": {},
   "source": [
    "Esse conjunto de dados contém diversos atributos que são categóricos. Modelos de AM\n",
    "não podem ser treinados no Scikit-Learn sobre atributos cujos valores são cadeias de\n",
    "caracteres. Sendo assim, você deve tomar providências para codificar numericamente\n",
    "esses atributos de maneira apropriada."
   ]
  },
  {
   "cell_type": "code",
   "execution_count": 53,
   "metadata": {},
   "outputs": [],
   "source": [
    "import pandas as pd\n",
    "from sklearn.preprocessing import OneHotEncoder\n",
    "\n",
    "path = 'C:/Users/parai/Documents/Github - Aprendizado de Máquina/Machine-Learning/data/'\n",
    "train = 'credtrain.txt'\n",
    "test = 'credtest.txt'\n",
    "\n",
    "nomes_colunas = ['ESCT', 'NDEP', 'RENDA', 'TIPOR', 'VBEM', 'NPARC', 'VPARC', 'TEL', 'IDADE', 'RESMS', 'ENTRADA', 'CLASSE']\n",
    "\n",
    "credtrain = pd.read_csv(f'{path}/{train}', names=nomes_colunas, delimiter='\\t')\n",
    "credtest = pd.read_csv(f'{path}/{test}', names=nomes_colunas, delimiter='\\t')\n",
    "\n",
    "\n",
    "X_train = credtrain.drop(columns=['CLASSE'])\n",
    "X_test = credtest.drop(columns=['CLASSE'])\n",
    "\n",
    "y_train = credtrain['CLASSE']\n",
    "y_test = credtest['CLASSE']\n",
    "\n"
   ]
  },
  {
   "cell_type": "code",
   "execution_count": null,
   "metadata": {},
   "outputs": [
    {
     "name": "stdout",
     "output_type": "stream",
     "text": [
      "      NDEP  RENDA  TIPOR  VBEM  NPARC  VPARC  TEL  IDADE  RESMS  ENTRADA  \\\n",
      "0        0    360      0   313      9     52    0     25     48        0   \n",
      "1        0    350      1   468     10     65    0     33      6        0   \n",
      "2        0   1100      0   829      9    125    0     56     48        0   \n",
      "3        0   3000      0   552     12     76    1     31     60        0   \n",
      "4        0   1000      0   809     12    111    0     24      7        0   \n",
      "...    ...    ...    ...   ...    ...    ...  ...    ...    ...      ...   \n",
      "1495     0    500      0   437     12     60    0     60     48        0   \n",
      "1496     0   2057      0   301      1    318    0     35     48        0   \n",
      "1497     0    570      0   511     12     71    1     28    144        0   \n",
      "1498     0    360      0   384     12     52    0     33     36        0   \n",
      "1499     4    501      1   849     10    117    0     37      6        0   \n",
      "\n",
      "      ESCT_0  ESCT_1  ESCT_2  ESCT_3  \n",
      "0        0.0     1.0     0.0     0.0  \n",
      "1        1.0     0.0     0.0     0.0  \n",
      "2        1.0     0.0     0.0     0.0  \n",
      "3        1.0     0.0     0.0     0.0  \n",
      "4        0.0     1.0     0.0     0.0  \n",
      "...      ...     ...     ...     ...  \n",
      "1495     0.0     1.0     0.0     0.0  \n",
      "1496     0.0     1.0     0.0     0.0  \n",
      "1497     1.0     0.0     0.0     0.0  \n",
      "1498     1.0     0.0     0.0     0.0  \n",
      "1499     1.0     0.0     0.0     0.0  \n",
      "\n",
      "[1500 rows x 14 columns]\n"
     ]
    }
   ],
   "source": [
    "import numpy as np\n",
    "\n",
    "\n",
    "# As colunas ESCT é uma variável categórica que deve ser transformada para que o algoritmo seja capaz de processá-la\n",
    "categorical_col = ['ESCT']\n",
    "\n",
    "\n",
    "# OneHotEncoder setup\n",
    "encoder = OneHotEncoder(\n",
    "    categories='auto',\n",
    "    drop=None,\n",
    "    sparse_output=False,\n",
    "    dtype=np.float64\n",
    ") \n",
    "\n",
    "\n",
    "# fit transform em Xtrain e Xtest   \n",
    "encoded_train = encoder.fit_transform(X_train[categorical_col])\n",
    "encoded_test = encoder.transform(X_test[categorical_col]) \n",
    "\n",
    "\n",
    "\n",
    "encoded_col_names = encoder.get_feature_names_out(categorical_col)\n",
    "# print(encoded_col_names) -- > ['ESCT_0' 'ESCT_1' 'ESCT_2' 'ESCT_3']\n",
    "\n",
    "\n",
    "\n",
    "# Converter para DataFrame\n",
    "encoded_train_df = pd.DataFrame(encoded_train, columns=encoded_col_names, index=X_train.index)\n",
    "encoded_test_df = pd.DataFrame(encoded_test, columns=encoded_col_names, index=X_test.index)\n",
    "\n",
    "# Remover a coluna original e concatenar no Dataframe\n",
    "X_train = pd.concat([X_train.drop(columns=categorical_col), encoded_train_df], axis=1)\n",
    "X_test = pd.concat([X_test.drop(columns=categorical_col), encoded_test_df], axis=1)\n",
    "\n",
    "print(X_train)"
   ]
  },
  {
   "cell_type": "code",
   "execution_count": 56,
   "metadata": {},
   "outputs": [
    {
     "name": "stdout",
     "output_type": "stream",
     "text": [
      "   NDEP  TIPOR  TEL  ESCT_0  ESCT_1  ESCT_2  ESCT_3     RENDA      VBEM  \\\n",
      "0     0      0    0     0.0     1.0     0.0     0.0 -0.689892 -0.937611   \n",
      "1     0      1    0     1.0     0.0     0.0     0.0 -0.700939 -0.354031   \n",
      "2     0      0    0     1.0     0.0     0.0     0.0  0.127578  1.005145   \n",
      "3     0      0    1     1.0     0.0     0.0     0.0  2.226490 -0.037768   \n",
      "4     0      0    0     0.0     1.0     0.0     0.0  0.017109  0.929845   \n",
      "\n",
      "      NPARC     VPARC     IDADE     RESMS   ENTRADA  \n",
      "0  0.168333 -0.798003 -1.228280  0.312878 -0.342137  \n",
      "1  0.445500 -0.591544 -0.622121 -0.484925 -0.342137  \n",
      "2  0.168333  0.361347  1.120585  0.312878 -0.342137  \n",
      "3  0.999835 -0.416847 -0.773661  0.540822 -0.342137  \n",
      "4  0.999835  0.139006 -1.304049 -0.465930 -0.342137  \n"
     ]
    }
   ],
   "source": [
    "# Vamos aplicar o Standard Scaler para os dados numéricos\n",
    "from sklearn.preprocessing import StandardScaler\n",
    "\n",
    "scaler = StandardScaler()\n",
    "# melhora a convergência de modelos\n",
    "\n",
    "# ex: RENDA varia de 300-9700 enquanto IDADE varia de 18 a 70\n",
    "# Logo, a função de otimização pode se tornar instável\n",
    "\n",
    "# Aplicar o scaler evita que as features com escalas diferentes dominem o modelo,\n",
    "# dando mais peso a algumas variáveis\n",
    "\n",
    "# Modelos baseados em distância, como o KNN, precisam de inputs padronizados\n",
    "\n",
    "numerical_cols = ['RENDA', 'VBEM', 'NPARC', 'VPARC', 'IDADE', 'RESMS', 'ENTRADA']\n",
    "\n",
    "\n",
    "# Aplicar o scaler e transformar para pd.DataFrame\n",
    "X_train_scaled = pd.DataFrame(scaler.fit_transform(X_train[numerical_cols]), columns=numerical_cols) # aplicar o fit somente no dataset de train\n",
    "X_test_scaled = pd.DataFrame(scaler.transform(X_test[numerical_cols]), columns=numerical_cols)\n",
    "\n",
    "\n",
    "\n",
    "# Remover a coluna original e concatenar no Dataframe original\n",
    "X_train = pd.concat([X_train.drop(columns=numerical_cols), X_train_scaled], axis=1)\n",
    "X_test = pd.concat([X_test.drop(columns=numerical_cols), X_test_scaled], axis=1)\n",
    "\n",
    "\n",
    "#print(X_train.head())\n",
    "# Dados numéricos normalizados\n",
    "\n",
    "print(X_train.head())\n",
    "\n",
    "\n"
   ]
  },
  {
   "cell_type": "markdown",
   "metadata": {},
   "source": [
    "Após realizar os passos de pré-processamento adequados, você deve criar modelos de classificação\n",
    "por meio dos algoritmos de aprendizado de máquina implementados nas seguintes\n",
    "classes da biblioteca Scikit-Learn. (Por simplicidade, você pode manter os valores default dos\n",
    "hiperparâmetros de cada algoritmo.)\n",
    "\n",
    "1. sklearn.linear_model.LogisticRegression\n",
    "2. sklearn.neighbors.KNeighborsClassifier\n",
    "3. sklearn.ensemble.GradientBoostingClassifier"
   ]
  },
  {
   "cell_type": "code",
   "execution_count": null,
   "metadata": {},
   "outputs": [],
   "source": [
    "\n",
    "from sklearn.linear_model import LogisticRegression\n",
    "\n",
    "model_LR = LogisticRegression()\n",
    "\n",
    "model_LR.fit(X_train, y_train)\n",
    " \n",
    "#y_pred = model_LR.predict(x_test)  # Utiliza um threshold de 0.5 por default e retorna ou 0 ou 1 para cada amostra\n",
    "\n",
    "y_pred_prob_lr = model_LR.predict_proba(X_test)[:,1] # retorna as probabilidades predizidas da classe positiva\n",
    "\n",
    "# Ou seja, y_pred_prob_lr returna um float entre 0 e 1 para cada amostra"
   ]
  },
  {
   "cell_type": "code",
   "execution_count": 58,
   "metadata": {},
   "outputs": [],
   "source": [
    "from sklearn.neighbors import KNeighborsClassifier\n",
    "\n",
    "model_KNN = KNeighborsClassifier() # num vizinhos = 5\n",
    "model_KNN.fit(X_train, y_train)\n",
    "\n",
    "y_pred_prob_KNN = model_KNN.predict_proba(X_test)[:,1]"
   ]
  },
  {
   "cell_type": "code",
   "execution_count": 59,
   "metadata": {},
   "outputs": [],
   "source": [
    "from sklearn.ensemble import GradientBoostingClassifier\n",
    "\n",
    "model_GBC = GradientBoostingClassifier()\n",
    "model_GBC.fit(X_train, y_train)\n",
    "\n",
    "y_pred_prob_Tree = model_GBC.predict_proba(X_test)[:,1]"
   ]
  },
  {
   "cell_type": "markdown",
   "metadata": {},
   "source": [
    "Construa um gráfico que apresenta a curva ROC para os três algoritmos acima."
   ]
  },
  {
   "cell_type": "code",
   "execution_count": 60,
   "metadata": {},
   "outputs": [
    {
     "data": {
      "image/png": "[encoded data removed]",
      "text/plain": [
       "<Figure size 1000x700 with 1 Axes>"
      ]
     },
     "metadata": {},
     "output_type": "display_data"
    }
   ],
   "source": [
    "from sklearn.metrics import auc, roc_curve\n",
    "import matplotlib.pyplot as plt\n",
    "\n",
    "\n",
    "fpr_lr, tpr_lr, thresholds_lr = roc_curve(y_test, y_pred_prob_lr)\n",
    "fpr_KNN, tpr_KNN, thresholds_KNN = roc_curve(y_test, y_pred_prob_KNN)\n",
    "fpr_Tree, tpr_Tree, thresholds_Tree = roc_curve(y_test, y_pred_prob_Tree)\n",
    "\n",
    "# Warning: Data Leakage!\n",
    "\n",
    "\n",
    "\n",
    "# Área abaixo da curva ROC\n",
    "# É uma métrica de performance pra mensurar a habilidade de um classificador binário\n",
    "# Discernir entre classes positivas e negativas\n",
    "roc_auc_LR = auc(fpr_lr, tpr_lr)\n",
    "roc_auc_KNN = auc(fpr_KNN, tpr_KNN)\n",
    "roc_auc_gbc = auc(fpr_Tree, tpr_Tree)\n",
    "\n",
    "\n",
    "# Rate de falsos positivos --> eixo X \n",
    "# Rate de Verdadeiros Positivos --> eixo Y\n",
    "plt.figure(figsize=(10, 7))\n",
    "plt.plot([0, 1], [0, 1], 'k--')\n",
    "plt.plot(fpr_lr, tpr_lr, label='Log. Reg. (area = %0.3f)' % roc_auc_LR)\n",
    "plt.plot(fpr_KNN, tpr_KNN, label='KNN (area = %0.3f)' % roc_auc_KNN)\n",
    "plt.plot(fpr_Tree, tpr_Tree, label='Tree (area = %0.3f)' % roc_auc_gbc)\n",
    "plt.xlabel('False Positive Rate')\n",
    "plt.ylabel('True Positive Rate')\n",
    "plt.title('ROC curves from the investigated models')\n",
    "plt.legend(loc='best')\n",
    "plt.show()\n",
    "\n",
    "# O AUC do modelo Tree-based (Gradient Boosting Classifier) possui o maior AUC, \n",
    "# logo com maior indicador de ter maior poder preditivo\n"
   ]
  },
  {
   "cell_type": "markdown",
   "metadata": {},
   "source": [
    "Use algum dos critérios de escolha de limiar apresentado em aula para definir o limiar de classificação\n",
    "para cada um desses algoritmos."
   ]
  },
  {
   "cell_type": "code",
   "execution_count": 61,
   "metadata": {},
   "outputs": [
    {
     "name": "stdout",
     "output_type": "stream",
     "text": [
      "Optimal threshold for Logistic Regression: 0.5109 (Index: 18)\n",
      "Optimal threshold for KNN: 0.6000 (Index: 3)\n",
      "Optimal threshold for Gradient Boosting Classifier: 0.4446 (Index: 34)\n"
     ]
    }
   ],
   "source": [
    " # O ponto de cut-off (ou limiar) é um valor que limita um classificador binário \n",
    " # pra determinar qual classe um exemplo pertence\n",
    " # Se P(class(x) = 1) >= α, então predizir classe 1, senão 0\n",
    " \n",
    " # geralmente é 0.5\n",
    " \n",
    " # Vamos calcular o Youden's J para cada limiar\n",
    "j_scores_lr = tpr_lr - fpr_lr\n",
    "j_scores_KNN = tpr_KNN - fpr_KNN\n",
    "j_scores_tree = tpr_Tree - fpr_Tree\n",
    "\n",
    "\n",
    "# Vamos encontrar o limiar que maximize o index de Youden\n",
    "optimal_idx_lr = np.argmax(j_scores_lr)\n",
    "optimal_idx_knn = np.argmax(j_scores_KNN)\n",
    "optimal_idx_tree = np.argmax(j_scores_tree)\n",
    "\n",
    "optimal_threshold_lr = thresholds_lr[optimal_idx_lr]\n",
    "optimal_threshold_knn = thresholds_KNN[optimal_idx_knn]\n",
    "optimal_threshold_tree = thresholds_Tree[optimal_idx_tree]\n",
    "print(f\"Optimal threshold for Logistic Regression: {optimal_threshold_lr:.4f} (Index: {optimal_idx_lr})\")\n",
    "print(f\"Optimal threshold for KNN: {thresholds_KNN[optimal_idx_knn]:.4f} (Index: {optimal_idx_knn})\")\n",
    "print(f\"Optimal threshold for Gradient Boosting Classifier: {thresholds_Tree[optimal_idx_tree]:.4f} (Index: {optimal_idx_tree})\")\n",
    "\n",
    "\n",
    " "
   ]
  },
  {
   "cell_type": "markdown",
   "metadata": {},
   "source": [
    "Após o treinamento e a escolha de limiares adequados, você deve avaliar a qualidade preditiva\n",
    "dos modelos correspondentes. Para isso, você deve usar os exemplos do conjunto de teste.\n",
    "Isso permitirá que você avalie o quão efetivo foi o passo de treinamento dos modelos, ou seja,\n",
    "qual o poder preditivo de cada modelo de classificação.\n",
    "- Produza a matriz de confusão (confusion matrix) relativa aos resultados da fase de testes\n",
    "para cada modelo.\n",
    "- Apresente também o relatório produzido pela função classification_report do Scikit-\n",
    "Learn."
   ]
  },
  {
   "cell_type": "code",
   "execution_count": 62,
   "metadata": {},
   "outputs": [],
   "source": [
    "from sklearn.metrics import ConfusionMatrixDisplay, confusion_matrix, classification_report\n",
    "import matplotlib.pyplot as plt\n",
    "\n",
    "\n",
    "y_pred_lr = [1 if prob>=optimal_threshold_lr else 0 for prob in y_pred_prob_lr]\n",
    "y_pred_knn = [1 if prob >= optimal_threshold_knn else 0 for prob in y_pred_prob_KNN]\n",
    "y_pred_tree = [1 if prob >+ optimal_threshold_tree else 0 for prob in y_pred_prob_Tree]\n"
   ]
  },
  {
   "cell_type": "code",
   "execution_count": 63,
   "metadata": {},
   "outputs": [
    {
     "name": "stdout",
     "output_type": "stream",
     "text": [
      "              precision    recall  f1-score   support\n",
      "\n",
      "           0       0.86      0.96      0.90       306\n",
      "           1       0.94      0.82      0.88       271\n",
      "\n",
      "    accuracy                           0.89       577\n",
      "   macro avg       0.90      0.89      0.89       577\n",
      "weighted avg       0.90      0.89      0.89       577\n",
      "\n"
     ]
    },
    {
     "data": {
      "image/png": "[encoded data removed]",
      "text/plain": [
       "<Figure size 640x480 with 2 Axes>"
      ]
     },
     "metadata": {},
     "output_type": "display_data"
    }
   ],
   "source": [
    "cm = confusion_matrix(y_test, y_pred_lr)\n",
    "disp = ConfusionMatrixDisplay(confusion_matrix=cm, display_labels=np.unique(y_test))\n",
    "disp.plot(cmap='Blues', values_format='d')\n",
    "plt.title('Matriz de Confusão - LR')\n",
    "\n",
    "print(classification_report(y_test, y_pred_lr))\n",
    "\n",
    "# precision =  TP / TP + FP  --> (quantos predizidos corretamente pra uma classe X) / (quantos ao todo tem nessa classe X)\n",
    "# recall = TP / TP + FN   --> (quantos predizidos corretamente pra uma classe X) / (quantos predizidos pra uma classe X)"
   ]
  },
  {
   "cell_type": "code",
   "execution_count": 64,
   "metadata": {},
   "outputs": [
    {
     "name": "stdout",
     "output_type": "stream",
     "text": [
      "              precision    recall  f1-score   support\n",
      "\n",
      "           0       0.83      0.92      0.87       306\n",
      "           1       0.90      0.79      0.84       271\n",
      "\n",
      "    accuracy                           0.86       577\n",
      "   macro avg       0.86      0.86      0.86       577\n",
      "weighted avg       0.86      0.86      0.86       577\n",
      "\n"
     ]
    },
    {
     "data": {
      "image/png": "[encoded data removed]",
      "text/plain": [
       "<Figure size 640x480 with 2 Axes>"
      ]
     },
     "metadata": {},
     "output_type": "display_data"
    }
   ],
   "source": [
    "cm = confusion_matrix(y_test, y_pred_knn)\n",
    "disp = ConfusionMatrixDisplay(confusion_matrix=cm, display_labels=np.unique(y_test))\n",
    "disp.plot(cmap='Blues', values_format='d')\n",
    "plt.title('Matriz de Confusão - KNN')\n",
    "\n",
    "print(classification_report(y_test, y_pred_knn))"
   ]
  },
  {
   "cell_type": "code",
   "execution_count": 65,
   "metadata": {},
   "outputs": [
    {
     "name": "stdout",
     "output_type": "stream",
     "text": [
      "              precision    recall  f1-score   support\n",
      "\n",
      "           0       0.87      0.96      0.91       306\n",
      "           1       0.95      0.84      0.89       271\n",
      "\n",
      "    accuracy                           0.90       577\n",
      "   macro avg       0.91      0.90      0.90       577\n",
      "weighted avg       0.91      0.90      0.90       577\n",
      "\n"
     ]
    },
    {
     "data": {
      "image/png": "[encoded data removed]",
      "text/plain": [
       "<Figure size 640x480 with 2 Axes>"
      ]
     },
     "metadata": {},
     "output_type": "display_data"
    }
   ],
   "source": [
    "cm = confusion_matrix(y_test, y_pred_tree)\n",
    "disp = ConfusionMatrixDisplay(confusion_matrix=cm, display_labels=np.unique(y_test))\n",
    "disp.plot(cmap='Blues', values_format='d')\n",
    "plt.title('Matriz de Confusão - Gradient Boosting')\n",
    "\n",
    "print(classification_report(y_test, y_pred_tree))"
   ]
  },
  {
   "cell_type": "markdown",
   "metadata": {},
   "source": [
    "# (2) Predição de preços de diamantes"
   ]
  },
  {
   "cell_type": "markdown",
   "metadata": {},
   "source": [
    "Nessa parte, você deve treinar um modelo de regressão sobre o conjunto de dados Diamond. Em\n",
    "particular, você deve criar um modelo para predizer o valor do preço (representado na variável\n",
    "dependente price) de um diamante usando os demais atributos como variáveis independentes.\n",
    "\n",
    "Repare que o conjunto de dados Diamond também contém variáveis não-numéricas. Sendo\n",
    "assim, você também precisará realizar passos de pré-processamento sobre o conjunto de dados\n",
    "antes de iniciar o treinamento do modelo."
   ]
  },
  {
   "cell_type": "code",
   "execution_count": 1,
   "metadata": {},
   "outputs": [],
   "source": [
    "import pandas as pd\n",
    "\n",
    "path = 'C:/Users/parai/Documents/Github - Aprendizado de Máquina/Machine-Learning/data/'\n",
    "path_data = 'diamonds.csv'\n",
    "\n",
    "\n",
    "nomes_colunas = ['carat', 'cut', 'color', 'clarity', 'depth', 'table',\n",
    "                 'price', 'x', 'y', 'z']\n",
    "\n",
    "\n",
    "\n",
    "df = pd.read_csv(f'{path}/{path_data}', names=nomes_colunas, header=0, index_col=0, delimiter=',')\n",
    "\n",
    "y = df['price']\n",
    "df = df.drop(columns=['price'])\n",
    "\n"
   ]
  },
  {
   "cell_type": "code",
   "execution_count": 2,
   "metadata": {},
   "outputs": [
    {
     "name": "stdout",
     "output_type": "stream",
     "text": [
      "   carat  cut  color  clarity  depth  table     x     y     z\n",
      "1   0.23  4.0    5.0      1.0   61.5   55.0  3.95  3.98  2.43\n",
      "2   0.21  3.0    5.0      2.0   59.8   61.0  3.89  3.84  2.31\n",
      "3   0.23  1.0    5.0      4.0   56.9   65.0  4.05  4.07  2.31\n",
      "4   0.29  3.0    1.0      3.0   62.4   58.0  4.20  4.23  2.63\n",
      "5   0.31  1.0    0.0      1.0   63.3   58.0  4.34  4.35  2.75\n"
     ]
    }
   ],
   "source": [
    "from sklearn.preprocessing import OrdinalEncoder\n",
    "\n",
    "\n",
    "# Lendo a documentação do Kagle:\n",
    "\n",
    "# quality of the cut (Fair, Good, Very Good, Premium, Ideal)\n",
    "# color: diamond colour, from J (worst) to D (best)\n",
    "# ou seja, [J, I, H, G, F, E, D, C, B, A]\n",
    "# clarity: (I1 (worst), SI2, SI1, VS2, VS1, VVS2, VVS1, IF (best)) \n",
    "\n",
    "\n",
    "\n",
    "\n",
    "\n",
    "ordinalidade_cut = ['Fair', 'Good', 'Very Good', 'Premium', 'Ideal']\n",
    "ordinalidade_color = ['J', 'I', 'H', 'G', 'F', 'E', 'D', 'C', 'B', 'A']\n",
    "ordinalidade_clarity = ['I1' , 'SI2', 'SI1', 'VS2', 'VS1', 'VVS2', 'VVS1', 'IF']\n",
    "\n",
    "categorical_cols = ['cut', 'color', 'clarity']\n",
    "\n",
    "\n",
    "\n",
    "# Cria o encoder com as categorias especificadas\n",
    "ordinal_encoder = OrdinalEncoder(categories=[ordinalidade_cut, ordinalidade_color, ordinalidade_clarity])\n",
    "\n",
    "# Aplica o fit_transform diretamente nas colunas categóricas\n",
    "df_encoded = ordinal_encoder.fit_transform(df[categorical_cols])\n",
    "\n",
    "# Adicionar ao dataframe original\n",
    "df[categorical_cols] = df_encoded\n",
    "\n",
    "print(df.head())\n",
    "\n"
   ]
  },
  {
   "cell_type": "markdown",
   "metadata": {},
   "source": [
    "você deve previamente separar aleatoriamente 20% dos exemplos fornecidos\n",
    "para formarem o conjunto de teste. Isso permitirá que você obtenha uma estimativa do\n",
    "quão efetivos são os modelos gerados. Certifique-se de avaliar todos os modelos sobre o mesmo\n",
    "conjunto de teste."
   ]
  },
  {
   "cell_type": "code",
   "execution_count": 4,
   "metadata": {},
   "outputs": [
    {
     "name": "stdout",
     "output_type": "stream",
     "text": [
      "       cut  color  clarity     carat     depth     table         x         y  \\\n",
      "26547  1.0    4.0      1.0  2.560056 -2.550748  2.933861  2.229450  2.138209   \n",
      "9160   2.0    5.0      1.0  0.447392 -1.220426  1.139575  0.747550  0.656710   \n",
      "14132  3.0    2.0      3.0  0.637532  0.529996  0.242432  0.765404  0.700284   \n",
      "15758  1.0    5.0      1.0  1.482597 -0.170173  3.382432  1.318885  1.249310   \n",
      "24633  2.0    3.0      4.0  1.524851  0.249928 -0.206140  1.372448  1.380030   \n",
      "49829  3.0    3.0      6.0 -0.503307 -1.430477  0.691003 -0.287995 -0.336766   \n",
      "38683  4.0    4.0      6.0 -1.052599  0.109895 -1.103283 -1.261050 -1.216950   \n",
      "44605  4.0    3.0      3.0 -0.566687  0.039878 -0.654711 -0.466537 -0.484916   \n",
      "11460  4.0    3.0      3.0  0.743165  0.319945 -1.551854  0.899311  0.796145   \n",
      "2496   4.0    5.0      6.0 -0.608940 -0.310207 -0.654711 -0.537954 -0.458771   \n",
      "\n",
      "              z  \n",
      "26547  1.738207  \n",
      "9160   0.537733  \n",
      "14132  0.791951  \n",
      "15758  1.243894  \n",
      "24633  1.399249  \n",
      "49829 -0.465015  \n",
      "38683 -1.213546  \n",
      "44605 -0.465015  \n",
      "11460  0.890814  \n",
      "2496  -0.521508  \n"
     ]
    }
   ],
   "source": [
    "from sklearn.model_selection import train_test_split\n",
    "from sklearn.preprocessing import StandardScaler\n",
    "\n",
    "\n",
    "X_train, X_test, y_train, y_test = train_test_split(df, y, test_size=0.2, random_state=42)\n",
    "\n",
    "\n",
    "# aplicar para variáveis numéricas contínuas\n",
    "numerical_cols = ['carat', 'depth', 'table', 'x', 'y', 'z']\n",
    "\n",
    "scaler = StandardScaler()\n",
    "\n",
    "\n",
    "# Aplicar o scaler e transformar para pd.DataFrame\n",
    "X_train_scaled = pd.DataFrame(scaler.fit_transform(X_train[numerical_cols]), columns=numerical_cols, index=X_train.index) # aplicar o fit somente no dataset de train\n",
    "X_test_scaled = pd.DataFrame(scaler.transform(X_test[numerical_cols]), columns=numerical_cols, index=X_test.index)\n",
    "\n",
    "\n",
    "# Remover a coluna original e concatenar no Dataframe original \n",
    "X_train = pd.concat([X_train.drop(columns=numerical_cols), X_train_scaled], axis=1)\n",
    "X_test = pd.concat([X_test.drop(columns=numerical_cols), X_test_scaled], axis=1)\n",
    "\n",
    "\n",
    "#Dados numéricos normalizados\n",
    "print(X_train.head(10))"
   ]
  },
  {
   "cell_type": "markdown",
   "metadata": {},
   "source": [
    "1. sklearn.linear_model.LinearRegression\n",
    "2. sklearn.neighbors.KNeighborsRegressor\n",
    "3. sklearn.ensemble.GradientBoostingRegressor"
   ]
  },
  {
   "cell_type": "code",
   "execution_count": 5,
   "metadata": {},
   "outputs": [],
   "source": [
    "from sklearn.linear_model import LinearRegression\n",
    "\n",
    "model_LR = LinearRegression()\n",
    "\n",
    "model_LR.fit(X_train, y_train)\n",
    "\n",
    "# predizir o conjunto de teste\n",
    "y_pred_lr = model_LR.predict(X_test)"
   ]
  },
  {
   "cell_type": "code",
   "execution_count": 6,
   "metadata": {},
   "outputs": [],
   "source": [
    "from sklearn.neighbors import KNeighborsClassifier\n",
    "\n",
    "\n",
    "model_KNN = KNeighborsClassifier()\n",
    "\n",
    "\n",
    "model_KNN.fit(X_train, y_train)\n",
    "\n",
    "\n",
    "y_pred_knn = model_KNN.predict(X_test)\n",
    "\n"
   ]
  },
  {
   "cell_type": "code",
   "execution_count": 7,
   "metadata": {},
   "outputs": [],
   "source": [
    "from sklearn.ensemble import GradientBoostingRegressor\n",
    "\n",
    "model_GBR = GradientBoostingRegressor()\n",
    "\n",
    "model_GBR.fit(X_train, y_train)\n",
    "\n",
    "\n",
    "y_pred_gbr = model_GBR.predict(X_test)"
   ]
  },
  {
   "cell_type": "markdown",
   "metadata": {},
   "source": [
    "Reporte o poder preditivo dos modelos que você construiu. Como métricas de avaliação,\n",
    "use o RMSE e o coeficiente e determinação R2. Apresente uma análise dos resultados\n",
    "obtidos."
   ]
  },
  {
   "cell_type": "code",
   "execution_count": 10,
   "metadata": {},
   "outputs": [
    {
     "name": "stdout",
     "output_type": "stream",
     "text": [
      "Linear Regression - MSE: 1499636.6903, RMSE: 1224.5965, R2: 0.9057\n",
      "KNeighbors - MSE: 1515373.8593, RMSE: 1231.0052, R2: 0.9047\n",
      "GradientBoostingRegressor - MSE: 371026.8913, RMSE: 609.1198, R2: 0.9767\n"
     ]
    }
   ],
   "source": [
    "from sklearn.metrics import mean_squared_error, r2_score\n",
    "import numpy as np\n",
    "\n",
    "# Linear Regression\n",
    "mse_lr = mean_squared_error(y_test, y_pred_lr)\n",
    "rmse_lr = np.sqrt(mse_lr)\n",
    "r2_lr = r2_score(y_test, y_pred_lr)\n",
    "print(f\"Linear Regression - MSE: {mse_lr:.4f}, RMSE: {rmse_lr:.4f}, R2: {r2_lr:.4f}\")\n",
    "\n",
    "# KNeighbors\n",
    "mse_knn = mean_squared_error(y_test, y_pred_knn)\n",
    "rmse_knn = np.sqrt(mse_knn)\n",
    "r2_knn = r2_score(y_test, y_pred_knn)\n",
    "print(f\"KNeighbors - MSE: {mse_knn:.4f}, RMSE: {rmse_knn:.4f}, R2: {r2_knn:.4f}\")\n",
    "\n",
    "# GradientBoostingRegressor\n",
    "mse_GBR = mean_squared_error(y_test, y_pred_gbr)\n",
    "rmse_gbr = np.sqrt(mse_GBR)\n",
    "r2_gbr = r2_score(y_test, y_pred_gbr)\n",
    "print(f\"GradientBoostingRegressor - MSE: {mse_GBR:.4f}, RMSE: {rmse_gbr:.4f}, R2: {r2_gbr:.4f}\")\n",
    "\n",
    "\n",
    "\n"
   ]
  },
  {
   "cell_type": "markdown",
   "metadata": {},
   "source": [
    "# (3) Conjuntos desbalanceados - parte I"
   ]
  },
  {
   "cell_type": "markdown",
   "metadata": {},
   "source": [
    "# (4) Conjuntos desbalanceados - parte II"
   ]
  },
  {
   "cell_type": "markdown",
   "metadata": {},
   "source": [
    "# (5) Calibração de modelos"
   ]
  },
  {
   "cell_type": "markdown",
   "metadata": {},
   "source": [
    "# (6) Validação cruzada aninhada"
   ]
  }
 ],
 "metadata": {
  "kernelspec": {
   "display_name": "base",
   "language": "python",
   "name": "python3"
  },
  "language_info": {
   "codemirror_mode": {
    "name": "ipython",
    "version": 3
   },
   "file_extension": ".py",
   "mimetype": "text/x-python",
   "name": "python",
   "nbconvert_exporter": "python",
   "pygments_lexer": "ipython3",
   "version": "3.12.7"
  }
 },
 "nbformat": 4,
 "nbformat_minor": 2
}
