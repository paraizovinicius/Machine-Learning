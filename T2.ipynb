{
 "cells": [
  {
   "cell_type": "markdown",
   "metadata": {},
   "source": [
    "<a id=\"top\"></a>\n",
    "<div class=\"list-group\" id=\"list-tab\" role=\"tablist\">\n",
    "<h1 class=\"list-group-item list-group-item-action active\" data-toggle=\"list\" style='background:#005097; border:0' role=\"tab\" aria-controls=\"home\"><center>APRENDIZADO DE MÁQUINA (CIC1205/GCC1932) - Trabalho 2</center></h1>\n",
    "\n",
    "- Nome completo: Vinicius Gonçalves Paraizo Borges\n",
    "- [Link para vídeo](<https://youtu.be/WokJL2Rh_lw>)"
   ]
  },
  {
   "cell_type": "markdown",
   "metadata": {},
   "source": [
    "# (1) Engenharia de Features\n",
    "\n",
    "O conjunto de dados diamonds contém informações sobre mais de 50.000 diamantes, incluindo\n",
    "características como quilate, corte, cor, pureza e preço. Este item visa avaliar a sua capacidade\n",
    "de realizar transformações úteis nas variáveis disponíveis e criar novas features que\n",
    "potencialmente aumentem o poder preditivo de modelos de regressão.\n",
    "\n",
    "Realize a engenharia de features no conjunto de dados diamonds, considerando as instruções\n",
    "abaixo:\n",
    "\n",
    "1. Criação de Novas Features: Crie pelo menos duas novas variáveis derivadas das\n",
    "existentes. Algumas possibilidades incluem:\n",
    "\n",
    "    - Combinação de variáveis (ex.: volume do diamante a partir de x, y, z);\n",
    "    - Codificação ordinal (ex.: transformar cut, color, clarity em variáveis numéricas\n",
    "com base em seu nível de qualidade percebido);\n",
    "    - Transformações logarítmicas ou polinomiais de variáveis contínuas (ex.: log(carat),\n",
    "carat2);\n",
    "    - Criação de variáveis binárias ou categóricas a partir de limiares relevantes.\n",
    "\n",
    "2. Justificativa: Para cada nova feature criada, explique o raciocínio por trás da transformação\n",
    "ou combinação. Justifique por que ela pode ser útil para um modelo de regressão\n",
    "que prediz o preço do diamante.\n",
    "\n",
    "3. Visualização Exploratória: Inclua pelo menos dois gráficos (ex.: boxplots, scatterplots\n",
    "com regressão, heatmaps) que ajudem a ilustrar como suas novas features se\n",
    "relacionam com o preço do diamante.\n",
    "\n",
    "4. Entrega: Apresente o código utilizado, os gráficos gerados e as justificativas das novas\n",
    "features no vídeo explicativo do trabalho."
   ]
  },
  {
   "cell_type": "code",
   "execution_count": 85,
   "metadata": {},
   "outputs": [],
   "source": [
    "import pandas as pd\n",
    "path = 'https://raw.githubusercontent.com/AILAB-CEFET-RJ/cic1205/refs/heads/main/data/diamonds.csv'\n",
    "diamonds = pd.read_csv(path)"
   ]
  },
  {
   "cell_type": "code",
   "execution_count": 86,
   "metadata": {},
   "outputs": [
    {
     "data": {
      "text/html": [
       "<div>\n",
       "<style scoped>\n",
       "    .dataframe tbody tr th:only-of-type {\n",
       "        vertical-align: middle;\n",
       "    }\n",
       "\n",
       "    .dataframe tbody tr th {\n",
       "        vertical-align: top;\n",
       "    }\n",
       "\n",
       "    .dataframe thead th {\n",
       "        text-align: right;\n",
       "    }\n",
       "</style>\n",
       "<table border=\"1\" class=\"dataframe\">\n",
       "  <thead>\n",
       "    <tr style=\"text-align: right;\">\n",
       "      <th></th>\n",
       "      <th>carat</th>\n",
       "      <th>depth</th>\n",
       "      <th>table</th>\n",
       "      <th>price</th>\n",
       "      <th>x</th>\n",
       "      <th>y</th>\n",
       "      <th>z</th>\n",
       "    </tr>\n",
       "  </thead>\n",
       "  <tbody>\n",
       "    <tr>\n",
       "      <th>count</th>\n",
       "      <td>53940.000000</td>\n",
       "      <td>53940.000000</td>\n",
       "      <td>53940.000000</td>\n",
       "      <td>53940.000000</td>\n",
       "      <td>53940.000000</td>\n",
       "      <td>53940.000000</td>\n",
       "      <td>53940.000000</td>\n",
       "    </tr>\n",
       "    <tr>\n",
       "      <th>mean</th>\n",
       "      <td>0.797940</td>\n",
       "      <td>61.749405</td>\n",
       "      <td>57.457184</td>\n",
       "      <td>3932.799722</td>\n",
       "      <td>5.731157</td>\n",
       "      <td>5.734526</td>\n",
       "      <td>3.538734</td>\n",
       "    </tr>\n",
       "    <tr>\n",
       "      <th>std</th>\n",
       "      <td>0.474011</td>\n",
       "      <td>1.432621</td>\n",
       "      <td>2.234491</td>\n",
       "      <td>3989.439738</td>\n",
       "      <td>1.121761</td>\n",
       "      <td>1.142135</td>\n",
       "      <td>0.705699</td>\n",
       "    </tr>\n",
       "    <tr>\n",
       "      <th>min</th>\n",
       "      <td>0.200000</td>\n",
       "      <td>43.000000</td>\n",
       "      <td>43.000000</td>\n",
       "      <td>326.000000</td>\n",
       "      <td>0.000000</td>\n",
       "      <td>0.000000</td>\n",
       "      <td>0.000000</td>\n",
       "    </tr>\n",
       "    <tr>\n",
       "      <th>25%</th>\n",
       "      <td>0.400000</td>\n",
       "      <td>61.000000</td>\n",
       "      <td>56.000000</td>\n",
       "      <td>950.000000</td>\n",
       "      <td>4.710000</td>\n",
       "      <td>4.720000</td>\n",
       "      <td>2.910000</td>\n",
       "    </tr>\n",
       "    <tr>\n",
       "      <th>50%</th>\n",
       "      <td>0.700000</td>\n",
       "      <td>61.800000</td>\n",
       "      <td>57.000000</td>\n",
       "      <td>2401.000000</td>\n",
       "      <td>5.700000</td>\n",
       "      <td>5.710000</td>\n",
       "      <td>3.530000</td>\n",
       "    </tr>\n",
       "    <tr>\n",
       "      <th>75%</th>\n",
       "      <td>1.040000</td>\n",
       "      <td>62.500000</td>\n",
       "      <td>59.000000</td>\n",
       "      <td>5324.250000</td>\n",
       "      <td>6.540000</td>\n",
       "      <td>6.540000</td>\n",
       "      <td>4.040000</td>\n",
       "    </tr>\n",
       "    <tr>\n",
       "      <th>max</th>\n",
       "      <td>5.010000</td>\n",
       "      <td>79.000000</td>\n",
       "      <td>95.000000</td>\n",
       "      <td>18823.000000</td>\n",
       "      <td>10.740000</td>\n",
       "      <td>58.900000</td>\n",
       "      <td>31.800000</td>\n",
       "    </tr>\n",
       "  </tbody>\n",
       "</table>\n",
       "</div>"
      ],
      "text/plain": [
       "              carat         depth         table         price             x  \\\n",
       "count  53940.000000  53940.000000  53940.000000  53940.000000  53940.000000   \n",
       "mean       0.797940     61.749405     57.457184   3932.799722      5.731157   \n",
       "std        0.474011      1.432621      2.234491   3989.439738      1.121761   \n",
       "min        0.200000     43.000000     43.000000    326.000000      0.000000   \n",
       "25%        0.400000     61.000000     56.000000    950.000000      4.710000   \n",
       "50%        0.700000     61.800000     57.000000   2401.000000      5.700000   \n",
       "75%        1.040000     62.500000     59.000000   5324.250000      6.540000   \n",
       "max        5.010000     79.000000     95.000000  18823.000000     10.740000   \n",
       "\n",
       "                  y             z  \n",
       "count  53940.000000  53940.000000  \n",
       "mean       5.734526      3.538734  \n",
       "std        1.142135      0.705699  \n",
       "min        0.000000      0.000000  \n",
       "25%        4.720000      2.910000  \n",
       "50%        5.710000      3.530000  \n",
       "75%        6.540000      4.040000  \n",
       "max       58.900000     31.800000  "
      ]
     },
     "execution_count": 86,
     "metadata": {},
     "output_type": "execute_result"
    }
   ],
   "source": [
    "# Explanatory Data Analysis\n",
    "\n",
    "diamonds.describe()"
   ]
  },
  {
   "cell_type": "markdown",
   "metadata": {},
   "source": [
    "*OBS:*\n",
    "\n",
    "Importante ressaltar os percentis de 'carat', 'price' e 'x', 'y', 'z'. Valores baixos até o percentil 75, em comparação com os seus respectivos máximos.\n"
   ]
  },
  {
   "cell_type": "code",
   "execution_count": 87,
   "metadata": {},
   "outputs": [
    {
     "data": {
      "text/plain": [
       "<Axes: xlabel='carat', ylabel='Count'>"
      ]
     },
     "execution_count": 87,
     "metadata": {},
     "output_type": "execute_result"
    },
    {
     "data": {
      "image/png": "[encoded data removed]",
      "text/plain": [
       "<Figure size 640x480 with 1 Axes>"
      ]
     },
     "metadata": {},
     "output_type": "display_data"
    }
   ],
   "source": [
    "import seaborn as sns\n",
    "\n",
    "# Carat\n",
    "\n",
    "sns.histplot(diamonds['carat'], bins=50, kde=True)\n",
    "\n",
    "# Percebe-se que a distribuição de carat está assimétrica\n",
    "# indicando que a maior parte dos diamantes tem um carat baixo"
   ]
  },
  {
   "cell_type": "code",
   "execution_count": 88,
   "metadata": {},
   "outputs": [
    {
     "data": {
      "text/plain": [
       "<Axes: xlabel='price', ylabel='Count'>"
      ]
     },
     "execution_count": 88,
     "metadata": {},
     "output_type": "execute_result"
    },
    {
     "data": {
      "image/png": "[encoded data removed]",
      "text/plain": [
       "<Figure size 640x480 with 1 Axes>"
      ]
     },
     "metadata": {},
     "output_type": "display_data"
    }
   ],
   "source": [
    "import seaborn as sns\n",
    "\n",
    "# price\n",
    "\n",
    "sns.histplot(diamonds['price'], bins=50, kde=True)\n",
    "\n",
    "# A distribuição de price está altamente concentrada.\n",
    "# A grande maioria dos diamantes tem preço baixo.\n",
    "# Vimos anteriormente que seu percentil(75) é R$ 5324"
   ]
  },
  {
   "cell_type": "code",
   "execution_count": 89,
   "metadata": {},
   "outputs": [
    {
     "data": {
      "text/plain": [
       "<Axes: xlabel='depth', ylabel='Count'>"
      ]
     },
     "execution_count": 89,
     "metadata": {},
     "output_type": "execute_result"
    },
    {
     "data": {
      "image/png": "[encoded data removed]",
      "text/plain": [
       "<Figure size 640x480 with 1 Axes>"
      ]
     },
     "metadata": {},
     "output_type": "display_data"
    }
   ],
   "source": [
    "import seaborn as sns\n",
    "\n",
    "# depth\n",
    "\n",
    "sns.histplot(diamonds['depth'], bins=50, kde=True)\n",
    "\n",
    "# Alta concentração dos dados, ao segmentarmos a distribuição em bins"
   ]
  },
  {
   "cell_type": "code",
   "execution_count": 90,
   "metadata": {},
   "outputs": [
    {
     "data": {
      "text/plain": [
       "<Axes: xlabel='color', ylabel='price'>"
      ]
     },
     "execution_count": 90,
     "metadata": {},
     "output_type": "execute_result"
    },
    {
     "data": {
      "image/png": "[encoded data removed]",
      "text/plain": [
       "<Figure size 640x480 with 1 Axes>"
      ]
     },
     "metadata": {},
     "output_type": "display_data"
    }
   ],
   "source": [
    "import seaborn as sns\n",
    "\n",
    "# Dados categóricos:\n",
    "# diamond colour, from J (worst) to D (best)\n",
    "\n",
    "sns.boxplot(x='color', y='price', data=diamonds, order=sorted(diamonds['color'].unique()))\n",
    "\n",
    "# Vemos que a tendência do preço é subir conforme a cor vai ficando melhor"
   ]
  },
  {
   "cell_type": "code",
   "execution_count": 91,
   "metadata": {},
   "outputs": [
    {
     "data": {
      "text/plain": [
       "<Axes: xlabel='cut', ylabel='price'>"
      ]
     },
     "execution_count": 91,
     "metadata": {},
     "output_type": "execute_result"
    },
    {
     "data": {
      "image/png": "[encoded data removed]",
      "text/plain": [
       "<Figure size 640x480 with 1 Axes>"
      ]
     },
     "metadata": {},
     "output_type": "display_data"
    }
   ],
   "source": [
    "import seaborn as sns\n",
    "\n",
    "# Dados categóricos:\n",
    "# CUT\n",
    "\n",
    "ordinalidade_cut = ['Fair', 'Good', 'Very Good', 'Premium', 'Ideal']\n",
    "\n",
    "sns.boxplot(x='cut', y='price', data=diamonds, order=ordinalidade_cut)\n",
    "\n",
    "# Notamos um crescimento no preço levando em conta seus limites superiores\n",
    "# com exceção de 'Ideal', onde isso não ocorre.\n",
    "# Porém, no geral, seus 1os e 3os quartis permanecem bem próximos."
   ]
  },
  {
   "cell_type": "code",
   "execution_count": 92,
   "metadata": {},
   "outputs": [
    {
     "name": "stdout",
     "output_type": "stream",
     "text": [
      "   carat  cut  color  clarity  depth  table  price     x     y     z\n",
      "0   0.23  4.0    5.0      1.0   61.5   55.0    326  3.95  3.98  2.43\n",
      "1   0.21  3.0    5.0      2.0   59.8   61.0    326  3.89  3.84  2.31\n",
      "2   0.23  1.0    5.0      4.0   56.9   65.0    327  4.05  4.07  2.31\n",
      "3   0.29  3.0    1.0      3.0   62.4   58.0    334  4.20  4.23  2.63\n",
      "4   0.31  1.0    0.0      1.0   63.3   58.0    335  4.34  4.35  2.75\n"
     ]
    }
   ],
   "source": [
    "from sklearn.preprocessing import OrdinalEncoder\n",
    "\n",
    "# Vamos codificar as variáveis categóricas para plotar o gráfico de calor\n",
    "def encode_variables_diamonds(diamonds):\n",
    "    ordinalidade_cut = ['Fair', 'Good', 'Very Good', 'Premium', 'Ideal']\n",
    "    ordinalidade_color = ['J', 'I', 'H', 'G', 'F', 'E', 'D']\n",
    "    ordinalidade_clarity = ['I1' , 'SI2', 'SI1', 'VS2', 'VS1', 'VVS2', 'VVS1', 'IF']\n",
    "\n",
    "    categorical_cols = ['cut', 'color', 'clarity']\n",
    "\n",
    "    # Cria o encoder com as categorias especificadas\n",
    "    ordinal_encoder = OrdinalEncoder(categories=[ordinalidade_cut, ordinalidade_color, ordinalidade_clarity])\n",
    "\n",
    "    # Aplica o fit_transform diretamente nas colunas categóricas\n",
    "    df_encoded = ordinal_encoder.fit_transform(diamonds[categorical_cols])\n",
    "\n",
    "    # Adicionar ao dataframe original\n",
    "    diamonds[categorical_cols] = df_encoded\n",
    "\n",
    "encode_variables_diamonds(diamonds)\n",
    "print(diamonds.head())"
   ]
  },
  {
   "cell_type": "code",
   "execution_count": 93,
   "metadata": {},
   "outputs": [
    {
     "data": {
      "image/png": "[encoded data removed]",
      "text/plain": [
       "<Figure size 800x600 with 2 Axes>"
      ]
     },
     "metadata": {},
     "output_type": "display_data"
    }
   ],
   "source": [
    "import matplotlib.pyplot as plt\n",
    "import seaborn as sns\n",
    "# Uma vez as variáveis categóricas codificadas, podemos fazer o\n",
    "# Mapa de calor de correlação entre as variáveis.\n",
    "\n",
    "# Dessa forma, podemos entender a relação que as variáveis tem entre si e \n",
    "# ver o quanto cada uma está correlacionada com a outra.\n",
    "\n",
    "# Isso é fundamental na etapa de análise exploratória dos dados e posteriormente\n",
    "# podermos fazer a feature engineering.\n",
    "\n",
    "\n",
    "plt.figure(figsize=(8, 6))\n",
    "sns.heatmap(diamonds.corr(), annot=True, cmap=\"coolwarm\", fmt=\".2f\")\n",
    "plt.title(\"Feature Correlation Heatmap\")\n",
    "plt.show()"
   ]
  },
  {
   "cell_type": "markdown",
   "metadata": {},
   "source": [
    "*Observações gerais:*\n",
    "\n",
    "- CARAT tem um alta correlação positiva com PRICE, X, Y e Z.\n",
    "\n",
    "- X, Y e Z estão correlacionados à PRICE positivamente.\n",
    "\n",
    "- X, Y e Z estão correlacionados positivamente entre si.\n",
    "\n",
    "- PRICE e CARAT possuem distribuições assimétricas e é bem desproporcionado.\n",
    "\n",
    "- Tendência de PRICE subir conforme COLOR vai ficando de melhor qualidade. (ordinal encoding é uma boa prática nesse caso)"
   ]
  },
  {
   "cell_type": "code",
   "execution_count": 94,
   "metadata": {},
   "outputs": [
    {
     "data": {
      "text/html": [
       "<div>\n",
       "<style scoped>\n",
       "    .dataframe tbody tr th:only-of-type {\n",
       "        vertical-align: middle;\n",
       "    }\n",
       "\n",
       "    .dataframe tbody tr th {\n",
       "        vertical-align: top;\n",
       "    }\n",
       "\n",
       "    .dataframe thead th {\n",
       "        text-align: right;\n",
       "    }\n",
       "</style>\n",
       "<table border=\"1\" class=\"dataframe\">\n",
       "  <thead>\n",
       "    <tr style=\"text-align: right;\">\n",
       "      <th></th>\n",
       "      <th>carat</th>\n",
       "      <th>cut</th>\n",
       "      <th>color</th>\n",
       "      <th>clarity</th>\n",
       "      <th>depth</th>\n",
       "      <th>table</th>\n",
       "      <th>price</th>\n",
       "      <th>x</th>\n",
       "      <th>y</th>\n",
       "      <th>z</th>\n",
       "      <th>log_price</th>\n",
       "      <th>log_carat</th>\n",
       "      <th>log_depth</th>\n",
       "    </tr>\n",
       "  </thead>\n",
       "  <tbody>\n",
       "    <tr>\n",
       "      <th>0</th>\n",
       "      <td>0.23</td>\n",
       "      <td>4.0</td>\n",
       "      <td>5.0</td>\n",
       "      <td>1.0</td>\n",
       "      <td>61.5</td>\n",
       "      <td>55.0</td>\n",
       "      <td>326</td>\n",
       "      <td>3.95</td>\n",
       "      <td>3.98</td>\n",
       "      <td>2.43</td>\n",
       "      <td>5.789960</td>\n",
       "      <td>0.207014</td>\n",
       "      <td>4.135167</td>\n",
       "    </tr>\n",
       "    <tr>\n",
       "      <th>1</th>\n",
       "      <td>0.21</td>\n",
       "      <td>3.0</td>\n",
       "      <td>5.0</td>\n",
       "      <td>2.0</td>\n",
       "      <td>59.8</td>\n",
       "      <td>61.0</td>\n",
       "      <td>326</td>\n",
       "      <td>3.89</td>\n",
       "      <td>3.84</td>\n",
       "      <td>2.31</td>\n",
       "      <td>5.789960</td>\n",
       "      <td>0.190620</td>\n",
       "      <td>4.107590</td>\n",
       "    </tr>\n",
       "    <tr>\n",
       "      <th>2</th>\n",
       "      <td>0.23</td>\n",
       "      <td>1.0</td>\n",
       "      <td>5.0</td>\n",
       "      <td>4.0</td>\n",
       "      <td>56.9</td>\n",
       "      <td>65.0</td>\n",
       "      <td>327</td>\n",
       "      <td>4.05</td>\n",
       "      <td>4.07</td>\n",
       "      <td>2.31</td>\n",
       "      <td>5.793014</td>\n",
       "      <td>0.207014</td>\n",
       "      <td>4.058717</td>\n",
       "    </tr>\n",
       "    <tr>\n",
       "      <th>3</th>\n",
       "      <td>0.29</td>\n",
       "      <td>3.0</td>\n",
       "      <td>1.0</td>\n",
       "      <td>3.0</td>\n",
       "      <td>62.4</td>\n",
       "      <td>58.0</td>\n",
       "      <td>334</td>\n",
       "      <td>4.20</td>\n",
       "      <td>4.23</td>\n",
       "      <td>2.63</td>\n",
       "      <td>5.814131</td>\n",
       "      <td>0.254642</td>\n",
       "      <td>4.149464</td>\n",
       "    </tr>\n",
       "    <tr>\n",
       "      <th>4</th>\n",
       "      <td>0.31</td>\n",
       "      <td>1.0</td>\n",
       "      <td>0.0</td>\n",
       "      <td>1.0</td>\n",
       "      <td>63.3</td>\n",
       "      <td>58.0</td>\n",
       "      <td>335</td>\n",
       "      <td>4.34</td>\n",
       "      <td>4.35</td>\n",
       "      <td>2.75</td>\n",
       "      <td>5.817111</td>\n",
       "      <td>0.270027</td>\n",
       "      <td>4.163560</td>\n",
       "    </tr>\n",
       "  </tbody>\n",
       "</table>\n",
       "</div>"
      ],
      "text/plain": [
       "   carat  cut  color  clarity  depth  table  price     x     y     z  \\\n",
       "0   0.23  4.0    5.0      1.0   61.5   55.0    326  3.95  3.98  2.43   \n",
       "1   0.21  3.0    5.0      2.0   59.8   61.0    326  3.89  3.84  2.31   \n",
       "2   0.23  1.0    5.0      4.0   56.9   65.0    327  4.05  4.07  2.31   \n",
       "3   0.29  3.0    1.0      3.0   62.4   58.0    334  4.20  4.23  2.63   \n",
       "4   0.31  1.0    0.0      1.0   63.3   58.0    335  4.34  4.35  2.75   \n",
       "\n",
       "   log_price  log_carat  log_depth  \n",
       "0   5.789960   0.207014   4.135167  \n",
       "1   5.789960   0.190620   4.107590  \n",
       "2   5.793014   0.207014   4.058717  \n",
       "3   5.814131   0.254642   4.149464  \n",
       "4   5.817111   0.270027   4.163560  "
      ]
     },
     "execution_count": 94,
     "metadata": {},
     "output_type": "execute_result"
    },
    {
     "data": {
      "image/png": "[encoded data removed]",
      "text/plain": [
       "<Figure size 640x480 with 1 Axes>"
      ]
     },
     "metadata": {},
     "output_type": "display_data"
    }
   ],
   "source": [
    "import numpy as np\n",
    "import seaborn as sns\n",
    "# Como as variáveis CARAT, DEPTH e PRICE possuem distribuições assimétricas, concentradas em certos intervalos,\n",
    "# podemos criar novas variáveis com a transformação logarítmica dessas colunas.\n",
    "\n",
    "# Isso ajuda o modelo a interpretar os dados de forma mais linear, reduzindo a assimetria e facilitando a \n",
    "# modelagem.\n",
    "\n",
    "diamonds['log_price'] = np.log1p(diamonds['price'])\n",
    "diamonds['log_carat'] = np.log1p(diamonds['carat'])\n",
    "diamonds['log_depth'] = np.log1p(diamonds['depth'])\n",
    "\n",
    "# exemplo de distribuição com log aplicado\n",
    "sns.histplot(diamonds['log_price'], bins=50, kde=True)\n",
    "diamonds.head()"
   ]
  },
  {
   "cell_type": "code",
   "execution_count": 96,
   "metadata": {},
   "outputs": [],
   "source": [
    "from sklearn.preprocessing import StandardScaler\n",
    "\n",
    "# Além disso, podemos colocar outras features que também podem fazer sentido:\n",
    "\n",
    "# Antes, aplicamos StandardScaler para normalizarmos os dados\n",
    "def apply_standard_scaler(diamonds):\n",
    "    scaler = StandardScaler()\n",
    "    numeric_features = ['price', 'carat', 'depth', 'table', 'x', 'y', 'z']\n",
    "    df_encoded = scaler.fit_transform(diamonds[numeric_features])\n",
    "    \n",
    "    diamonds[numeric_features] = df_encoded"
   ]
  },
  {
   "cell_type": "code",
   "execution_count": 97,
   "metadata": {},
   "outputs": [],
   "source": [
    "apply_standard_scaler(diamonds)"
   ]
  },
  {
   "cell_type": "code",
   "execution_count": 98,
   "metadata": {},
   "outputs": [
    {
     "data": {
      "text/html": [
       "<div>\n",
       "<style scoped>\n",
       "    .dataframe tbody tr th:only-of-type {\n",
       "        vertical-align: middle;\n",
       "    }\n",
       "\n",
       "    .dataframe tbody tr th {\n",
       "        vertical-align: top;\n",
       "    }\n",
       "\n",
       "    .dataframe thead th {\n",
       "        text-align: right;\n",
       "    }\n",
       "</style>\n",
       "<table border=\"1\" class=\"dataframe\">\n",
       "  <thead>\n",
       "    <tr style=\"text-align: right;\">\n",
       "      <th></th>\n",
       "      <th>carat</th>\n",
       "      <th>cut</th>\n",
       "      <th>color</th>\n",
       "      <th>clarity</th>\n",
       "      <th>depth</th>\n",
       "      <th>table</th>\n",
       "      <th>price</th>\n",
       "      <th>x</th>\n",
       "      <th>y</th>\n",
       "      <th>z</th>\n",
       "      <th>log_price</th>\n",
       "      <th>log_carat</th>\n",
       "      <th>log_depth</th>\n",
       "    </tr>\n",
       "  </thead>\n",
       "  <tbody>\n",
       "    <tr>\n",
       "      <th>0</th>\n",
       "      <td>-1.198168</td>\n",
       "      <td>4.0</td>\n",
       "      <td>5.0</td>\n",
       "      <td>1.0</td>\n",
       "      <td>-0.174092</td>\n",
       "      <td>-1.099672</td>\n",
       "      <td>-0.904095</td>\n",
       "      <td>-1.587837</td>\n",
       "      <td>-1.536196</td>\n",
       "      <td>-1.571129</td>\n",
       "      <td>5.789960</td>\n",
       "      <td>0.207014</td>\n",
       "      <td>4.135167</td>\n",
       "    </tr>\n",
       "    <tr>\n",
       "      <th>1</th>\n",
       "      <td>-1.240361</td>\n",
       "      <td>3.0</td>\n",
       "      <td>5.0</td>\n",
       "      <td>2.0</td>\n",
       "      <td>-1.360738</td>\n",
       "      <td>1.585529</td>\n",
       "      <td>-0.904095</td>\n",
       "      <td>-1.641325</td>\n",
       "      <td>-1.658774</td>\n",
       "      <td>-1.741175</td>\n",
       "      <td>5.789960</td>\n",
       "      <td>0.190620</td>\n",
       "      <td>4.107590</td>\n",
       "    </tr>\n",
       "    <tr>\n",
       "      <th>2</th>\n",
       "      <td>-1.198168</td>\n",
       "      <td>1.0</td>\n",
       "      <td>5.0</td>\n",
       "      <td>4.0</td>\n",
       "      <td>-3.385019</td>\n",
       "      <td>3.375663</td>\n",
       "      <td>-0.903844</td>\n",
       "      <td>-1.498691</td>\n",
       "      <td>-1.457395</td>\n",
       "      <td>-1.741175</td>\n",
       "      <td>5.793014</td>\n",
       "      <td>0.207014</td>\n",
       "      <td>4.058717</td>\n",
       "    </tr>\n",
       "    <tr>\n",
       "      <th>3</th>\n",
       "      <td>-1.071587</td>\n",
       "      <td>3.0</td>\n",
       "      <td>1.0</td>\n",
       "      <td>3.0</td>\n",
       "      <td>0.454133</td>\n",
       "      <td>0.242928</td>\n",
       "      <td>-0.902090</td>\n",
       "      <td>-1.364971</td>\n",
       "      <td>-1.317305</td>\n",
       "      <td>-1.287720</td>\n",
       "      <td>5.814131</td>\n",
       "      <td>0.254642</td>\n",
       "      <td>4.149464</td>\n",
       "    </tr>\n",
       "    <tr>\n",
       "      <th>4</th>\n",
       "      <td>-1.029394</td>\n",
       "      <td>1.0</td>\n",
       "      <td>0.0</td>\n",
       "      <td>1.0</td>\n",
       "      <td>1.082358</td>\n",
       "      <td>0.242928</td>\n",
       "      <td>-0.901839</td>\n",
       "      <td>-1.240167</td>\n",
       "      <td>-1.212238</td>\n",
       "      <td>-1.117674</td>\n",
       "      <td>5.817111</td>\n",
       "      <td>0.270027</td>\n",
       "      <td>4.163560</td>\n",
       "    </tr>\n",
       "  </tbody>\n",
       "</table>\n",
       "</div>"
      ],
      "text/plain": [
       "      carat  cut  color  clarity     depth     table     price         x  \\\n",
       "0 -1.198168  4.0    5.0      1.0 -0.174092 -1.099672 -0.904095 -1.587837   \n",
       "1 -1.240361  3.0    5.0      2.0 -1.360738  1.585529 -0.904095 -1.641325   \n",
       "2 -1.198168  1.0    5.0      4.0 -3.385019  3.375663 -0.903844 -1.498691   \n",
       "3 -1.071587  3.0    1.0      3.0  0.454133  0.242928 -0.902090 -1.364971   \n",
       "4 -1.029394  1.0    0.0      1.0  1.082358  0.242928 -0.901839 -1.240167   \n",
       "\n",
       "          y         z  log_price  log_carat  log_depth  \n",
       "0 -1.536196 -1.571129   5.789960   0.207014   4.135167  \n",
       "1 -1.658774 -1.741175   5.789960   0.190620   4.107590  \n",
       "2 -1.457395 -1.741175   5.793014   0.207014   4.058717  \n",
       "3 -1.317305 -1.287720   5.814131   0.254642   4.149464  \n",
       "4 -1.212238 -1.117674   5.817111   0.270027   4.163560  "
      ]
     },
     "execution_count": 98,
     "metadata": {},
     "output_type": "execute_result"
    }
   ],
   "source": [
    "diamonds[:5]"
   ]
  },
  {
   "cell_type": "code",
   "execution_count": 99,
   "metadata": {},
   "outputs": [],
   "source": [
    "# Novas FEATURES:\n",
    "# Como as dimensões do diamante X, Y e Z estão fortemente correlacionadas com o preço do diamante,\n",
    "# podemos acrescentar VOLUME, sendo uma representação mais completa e informativa do volume.\n",
    "diamonds['volume'] = diamonds['x'] * diamonds['y'] * diamonds['z']\n",
    "\n",
    "# DEPTH_RATIO é uma forma de capturar a proporcionalidade da forma do diamante.\n",
    "# Dessa forma, será possível capturar se certos padrões geométricos/formas podem ser mais valorizadas.\n",
    "# Z / Y --> (depth / width)\n",
    "diamonds['depth_ratio'] = diamonds['z'] / diamonds['y'] "
   ]
  },
  {
   "cell_type": "code",
   "execution_count": 100,
   "metadata": {},
   "outputs": [
    {
     "data": {
      "text/html": [
       "<div>\n",
       "<style scoped>\n",
       "    .dataframe tbody tr th:only-of-type {\n",
       "        vertical-align: middle;\n",
       "    }\n",
       "\n",
       "    .dataframe tbody tr th {\n",
       "        vertical-align: top;\n",
       "    }\n",
       "\n",
       "    .dataframe thead th {\n",
       "        text-align: right;\n",
       "    }\n",
       "</style>\n",
       "<table border=\"1\" class=\"dataframe\">\n",
       "  <thead>\n",
       "    <tr style=\"text-align: right;\">\n",
       "      <th></th>\n",
       "      <th>carat</th>\n",
       "      <th>cut</th>\n",
       "      <th>color</th>\n",
       "      <th>clarity</th>\n",
       "      <th>depth</th>\n",
       "      <th>table</th>\n",
       "      <th>price</th>\n",
       "      <th>x</th>\n",
       "      <th>y</th>\n",
       "      <th>z</th>\n",
       "      <th>log_price</th>\n",
       "      <th>log_carat</th>\n",
       "      <th>log_depth</th>\n",
       "      <th>volume</th>\n",
       "      <th>depth_ratio</th>\n",
       "    </tr>\n",
       "  </thead>\n",
       "  <tbody>\n",
       "    <tr>\n",
       "      <th>0</th>\n",
       "      <td>-1.198168</td>\n",
       "      <td>4.0</td>\n",
       "      <td>5.0</td>\n",
       "      <td>1.0</td>\n",
       "      <td>-0.174092</td>\n",
       "      <td>-1.099672</td>\n",
       "      <td>-0.904095</td>\n",
       "      <td>-1.587837</td>\n",
       "      <td>-1.536196</td>\n",
       "      <td>-1.571129</td>\n",
       "      <td>5.789960</td>\n",
       "      <td>0.207014</td>\n",
       "      <td>4.135167</td>\n",
       "      <td>-3.832344</td>\n",
       "      <td>1.022740</td>\n",
       "    </tr>\n",
       "    <tr>\n",
       "      <th>1</th>\n",
       "      <td>-1.240361</td>\n",
       "      <td>3.0</td>\n",
       "      <td>5.0</td>\n",
       "      <td>2.0</td>\n",
       "      <td>-1.360738</td>\n",
       "      <td>1.585529</td>\n",
       "      <td>-0.904095</td>\n",
       "      <td>-1.641325</td>\n",
       "      <td>-1.658774</td>\n",
       "      <td>-1.741175</td>\n",
       "      <td>5.789960</td>\n",
       "      <td>0.190620</td>\n",
       "      <td>4.107590</td>\n",
       "      <td>-4.740502</td>\n",
       "      <td>1.049676</td>\n",
       "    </tr>\n",
       "    <tr>\n",
       "      <th>2</th>\n",
       "      <td>-1.198168</td>\n",
       "      <td>1.0</td>\n",
       "      <td>5.0</td>\n",
       "      <td>4.0</td>\n",
       "      <td>-3.385019</td>\n",
       "      <td>3.375663</td>\n",
       "      <td>-0.903844</td>\n",
       "      <td>-1.498691</td>\n",
       "      <td>-1.457395</td>\n",
       "      <td>-1.741175</td>\n",
       "      <td>5.793014</td>\n",
       "      <td>0.207014</td>\n",
       "      <td>4.058717</td>\n",
       "      <td>-3.803048</td>\n",
       "      <td>1.194717</td>\n",
       "    </tr>\n",
       "    <tr>\n",
       "      <th>3</th>\n",
       "      <td>-1.071587</td>\n",
       "      <td>3.0</td>\n",
       "      <td>1.0</td>\n",
       "      <td>3.0</td>\n",
       "      <td>0.454133</td>\n",
       "      <td>0.242928</td>\n",
       "      <td>-0.902090</td>\n",
       "      <td>-1.364971</td>\n",
       "      <td>-1.317305</td>\n",
       "      <td>-1.287720</td>\n",
       "      <td>5.814131</td>\n",
       "      <td>0.254642</td>\n",
       "      <td>4.149464</td>\n",
       "      <td>-2.315428</td>\n",
       "      <td>0.977541</td>\n",
       "    </tr>\n",
       "    <tr>\n",
       "      <th>4</th>\n",
       "      <td>-1.029394</td>\n",
       "      <td>1.0</td>\n",
       "      <td>0.0</td>\n",
       "      <td>1.0</td>\n",
       "      <td>1.082358</td>\n",
       "      <td>0.242928</td>\n",
       "      <td>-0.901839</td>\n",
       "      <td>-1.240167</td>\n",
       "      <td>-1.212238</td>\n",
       "      <td>-1.117674</td>\n",
       "      <td>5.817111</td>\n",
       "      <td>0.270027</td>\n",
       "      <td>4.163560</td>\n",
       "      <td>-1.680285</td>\n",
       "      <td>0.921992</td>\n",
       "    </tr>\n",
       "  </tbody>\n",
       "</table>\n",
       "</div>"
      ],
      "text/plain": [
       "      carat  cut  color  clarity     depth     table     price         x  \\\n",
       "0 -1.198168  4.0    5.0      1.0 -0.174092 -1.099672 -0.904095 -1.587837   \n",
       "1 -1.240361  3.0    5.0      2.0 -1.360738  1.585529 -0.904095 -1.641325   \n",
       "2 -1.198168  1.0    5.0      4.0 -3.385019  3.375663 -0.903844 -1.498691   \n",
       "3 -1.071587  3.0    1.0      3.0  0.454133  0.242928 -0.902090 -1.364971   \n",
       "4 -1.029394  1.0    0.0      1.0  1.082358  0.242928 -0.901839 -1.240167   \n",
       "\n",
       "          y         z  log_price  log_carat  log_depth    volume  depth_ratio  \n",
       "0 -1.536196 -1.571129   5.789960   0.207014   4.135167 -3.832344     1.022740  \n",
       "1 -1.658774 -1.741175   5.789960   0.190620   4.107590 -4.740502     1.049676  \n",
       "2 -1.457395 -1.741175   5.793014   0.207014   4.058717 -3.803048     1.194717  \n",
       "3 -1.317305 -1.287720   5.814131   0.254642   4.149464 -2.315428     0.977541  \n",
       "4 -1.212238 -1.117674   5.817111   0.270027   4.163560 -1.680285     0.921992  "
      ]
     },
     "execution_count": 100,
     "metadata": {},
     "output_type": "execute_result"
    }
   ],
   "source": [
    "diamonds.head()"
   ]
  },
  {
   "cell_type": "markdown",
   "metadata": {},
   "source": [
    "# (2) Classificação Ordinal Multi-classes\n",
    "\n",
    "Nesta item, você deve revisitar os seguinte arquivo A652.pickle. No Trabalho 1, você enquadrou\n",
    "o problema como uma tarefa de classificação binária. Desta vez, você deve enquadrar o\n",
    "problema como uma tarefa de classificação ordinal multi-classes. Concretamente, desta vez,\n",
    "você deve discretizar os valores de precipitação (medidos em mm/h) produzindo cinco níveis\n",
    "(classes), conforme o seguinte mapeamento:\n",
    "\n",
    "-  0 → NONE\n",
    "- (0, 5] → WEAK\n",
    "- (5, 25] → MODERATE\n",
    "- (25,50] → STRONG\n",
    "- (50, ∞] → EXTREME\n",
    "\n",
    "\n",
    "Métodos de aprendizado de máquina para problemas de classificação comumente assumem\n",
    "que os valores das classes não possuem uma ordem. No entanto, em muitas aplicações práticas,\n",
    "os valores das classes exibem, sim, uma ordem natural — por exemplo, ao aprender a atribuir\n",
    "notas ou ao classificar sentimentos (discorda < neutro < concorda), temperaturas (frio < morno\n",
    "< quente). Nesses casos, o problema deve ser enquadrado como uma tarefa de classificação\n",
    "ordinal. Sendo assim, nesse item você deve implementar a abordagem descrita no [artigo](<https://link.springer.com/chapter/10.1007/3-540-44795-4_13>) Simple Approach to Ordinal Classification para criar um classificador multi-classes ordinal. Um bom\n",
    "ponto de partida para esta tarefa é esta página no portal - [GitHub](<https://github.com/leeprevost/OrdinalClassifier/tree/main>).\n",
    "Crie os modelos de classificação utilizando o algoritmo GradientBoostingClassifier.\n",
    "Apresente seus resultados (medidos sobre os respectivos conjuntos de teste) na forma de\n",
    "matrizes de confusão e utilizando a função classification_report do Scikit-Learn. Apresente\n",
    "também uma análise comparativa com o modelo gerado (também usando o algoritmo\n",
    "GradientBoostingClassifier) sem considerar que há ordem entre as classes."
   ]
  },
  {
   "cell_type": "code",
   "execution_count": 103,
   "metadata": {},
   "outputs": [],
   "source": [
    "import pickle\n",
    "import numpy as np\n",
    "\n",
    "path = 'C:/Users/parai/Documents/Github - Aprendizado de Máquina/Machine-Learning/data/'\n",
    "filename = 'A652.pickle'\n",
    "f = open(f\"{path}/{filename}\", \"rb\")\n",
    "\n",
    "(X_train, y_train, X_val, y_val, X_test, y_test) = pickle.load(f)\n",
    "\n",
    "# Não usaremos o conjunto de validation nessa questão\n",
    "X_train = np.concatenate([X_train, X_val])\n",
    "y_train = np.concatenate([y_train, y_val])\n",
    "\n"
   ]
  },
  {
   "cell_type": "code",
   "execution_count": 104,
   "metadata": {},
   "outputs": [
    {
     "data": {
      "text/plain": [
       "(12518, 1)"
      ]
     },
     "execution_count": 104,
     "metadata": {},
     "output_type": "execute_result"
    }
   ],
   "source": [
    "import numpy as np\n",
    "\n",
    "def discretize(y):\n",
    "    ystr = []\n",
    "    for i, y_ in enumerate(y):\n",
    "        if y_ == 0:\n",
    "            ystr.append('NONE')\n",
    "        if 5 >= y_ > 0:\n",
    "            ystr.append('WEAK')\n",
    "        if 25 >= y_ > 5:\n",
    "            ystr.append('MODERATE')\n",
    "        if 50 >= y_ > 25:\n",
    "            ystr.append('STRONG')\n",
    "        if y_ > 50:\n",
    "            ystr.append('EXTREME')\n",
    "    return np.array(ystr).reshape(-1, 1)\n",
    "\n",
    "y_train_discretized = discretize(y_train)\n",
    "y_test_discretized = discretize(y_test)\n",
    "\n",
    "y_train_discretized.shape\n",
    "\n",
    "# Transformar as variáveis entre as categorias 'NONE', 'WEAK', 'MODERATE', 'STRONG' e 'EXTREME'"
   ]
  },
  {
   "cell_type": "code",
   "execution_count": 105,
   "metadata": {},
   "outputs": [],
   "source": [
    "from sklearn.preprocessing import OrdinalEncoder\n",
    "\n",
    "\n",
    "ordinalidade_rain = [['NONE', 'WEAK', 'MODERATE', 'STRONG', 'EXTREME']]\n",
    "\n",
    "le = OrdinalEncoder(categories=ordinalidade_rain) # Fit on the known order\n",
    "y_train_ord = le.fit_transform(y_train_discretized)  \n",
    "y_test_ord = le.transform(y_test_discretized)\n",
    "\n",
    "# remover 1 dimensão extra que ficou (n_samples, 1) para (n_samples,)\n",
    "y_train_ = np.ravel(y_train_ord)\n",
    "y_test_= np.ravel(y_test_ord)\n"
   ]
  },
  {
   "cell_type": "markdown",
   "metadata": {},
   "source": [
    "Probabilidades com Ordinal Classification:\n",
    "\n",
    "    - Pr(V1) = 1 − Pr(Target > V1)\n",
    "\n",
    "    - Pr(Vi) = Pr(Target > Vi−1) * (1 − Pr(Target > Vi)) ; 1 < i < k\n",
    "\n",
    "    - Pr(Vk) = Pr(Target > Vk−1)\n",
    "\n",
    "Obs: Esse método aprimora a menor classe, dentro das classes ordenadas (eg. \"cold\" in cold<warm<hot). Logo, se a classe positiva for \"hot\", considere reverter a ordem das classes para aprimorar os escores em \"hot\"."
   ]
  },
  {
   "cell_type": "code",
   "execution_count": 106,
   "metadata": {},
   "outputs": [],
   "source": [
    "def make_binary_targets(y, t):\n",
    "    \"\"\"\n",
    "    Converter y para um alvo binário (y > t)\n",
    "    \"\"\"\n",
    "    return (y > t).astype(int)"
   ]
  },
  {
   "cell_type": "code",
   "execution_count": 107,
   "metadata": {},
   "outputs": [
    {
     "name": "stdout",
     "output_type": "stream",
     "text": [
      "Quantidade de classes: 4\n",
      "\n",
      "\n",
      "Class: >NONE\n",
      "Shape: (12518,)\n",
      "Dtype: int32\n",
      "Unique values: [0 1]\n",
      "Sum da classe positiva (1): 983\n",
      "\n",
      "Class: >WEAK\n",
      "Shape: (12518,)\n",
      "Dtype: int32\n",
      "Unique values: [0 1]\n",
      "Sum da classe positiva (1): 97\n",
      "\n",
      "Class: >MODERATE\n",
      "Shape: (12518,)\n",
      "Dtype: int32\n",
      "Unique values: [0 1]\n",
      "Sum da classe positiva (1): 3\n",
      "\n",
      "Class: >STRONG\n",
      "Shape: (12518,)\n",
      "Dtype: int32\n",
      "Unique values: [0]\n",
      "Sum da classe positiva (1): 0\n",
      "\n"
     ]
    }
   ],
   "source": [
    "classes_nominais = ['NONE', 'WEAK', 'MODERATE', 'STRONG', 'EXTREME']\n",
    "\n",
    "classes = np.sort(np.unique(y_train_))\n",
    "k = len(classes)\n",
    "\n",
    "print(f\"Quantidade de classes: {k}\\n\\n\")\n",
    "\n",
    "\n",
    "# Para ordinal classification, existe uma etapa de pré-processamento onde dividimos o dataset em k-1 outros.\n",
    "# Substituímos o dataset de várias classes para k-1 outros de classificação binária.\n",
    "\n",
    "# O primeiro se define pela classificação entre NONE (0) e WEAK (1);\n",
    "# O último se define: STRONG (0) e EXTREME (1).\n",
    "\n",
    "# Teremos 4 novas classes: (>NONE, >WEAK, >MODERATE, >STRONG)\n",
    "\n",
    "y_binaries = []\n",
    "for t in range(k):\n",
    "    y_binary = make_binary_targets(y_train_, t)\n",
    "    y_binaries.append(y_binary)\n",
    "    print(f\"Class: >{classes_nominais[t]}\")\n",
    "    print(f\"Shape: {y_binary.shape}\")\n",
    "    print(f\"Dtype: {y_binary.dtype}\")\n",
    "    print(f\"Unique values: {np.unique(y_binary)}\")\n",
    "    print(f\"Sum da classe positiva (1): {np.sum(y_binary[y_binary==1])}\\n\")"
   ]
  },
  {
   "cell_type": "code",
   "execution_count": 108,
   "metadata": {},
   "outputs": [
    {
     "name": "stdout",
     "output_type": "stream",
     "text": [
      "\n",
      "classe: 0.0 / >NONE\n",
      "Fit do classificador (>NONE)\n",
      "\n",
      "classe: 1.0 / >WEAK\n",
      "Fit do classificador (>WEAK)\n",
      "\n",
      "classe: 2.0 / >MODERATE\n",
      "Fit do classificador (>MODERATE)\n",
      "\n",
      "classe: 3.0 / >STRONG\n"
     ]
    }
   ],
   "source": [
    "from sklearn.ensemble import GradientBoostingClassifier\n",
    "from sklearn.base import clone\n",
    "\n",
    "# Agora que temos os datasets binários, vamos fazer o fit dos modelos para cada uma das novas classes\n",
    "models = []\n",
    "base_model = GradientBoostingClassifier()\n",
    "\n",
    "\n",
    "for t in range(k): \n",
    "\n",
    "    print(f\"\\nclasse: {classes[t]} / >{classes_nominais[t]}\")\n",
    "    \n",
    "    if(len(np.unique(y_binaries[t])) == 2): # A classe >STRONG não será treinada, pois só tem labels negativos\n",
    "        \n",
    "        model = clone(base_model) # criamos um classificador pra cada dataset\n",
    "        \n",
    "        print(f\"Fit do classificador (>{classes_nominais[t]})\")\n",
    "        model.fit(X_train,y_binaries[t]) \n",
    "        models.append(model)\n"
   ]
  },
  {
   "cell_type": "code",
   "execution_count": 109,
   "metadata": {},
   "outputs": [
    {
     "data": {
      "text/plain": [
       "3"
      ]
     },
     "execution_count": 109,
     "metadata": {},
     "output_type": "execute_result"
    }
   ],
   "source": [
    "len(models)"
   ]
  },
  {
   "cell_type": "code",
   "execution_count": 110,
   "metadata": {},
   "outputs": [
    {
     "data": {
      "text/plain": [
       "(9582, 24)"
      ]
     },
     "execution_count": 110,
     "metadata": {},
     "output_type": "execute_result"
    }
   ],
   "source": [
    "X_test.shape"
   ]
  },
  {
   "cell_type": "code",
   "execution_count": 111,
   "metadata": {},
   "outputs": [
    {
     "name": "stdout",
     "output_type": "stream",
     "text": [
      "Temos 9212 da classe WEAK\n"
     ]
    }
   ],
   "source": [
    "# Inicializa com -1, para saber quem não foi classificado\n",
    "unified_Y = np.full(X_test.shape[0], -1)  \n",
    "\n",
    "# Passo 1: classificador >NONE\n",
    "Y = np.array(models[0].predict(X_test))  # predições binárias\n",
    "\n",
    "# Quem for == 0, é classe NONE\n",
    "unified_Y[Y == 0] = 0  \n",
    "\n",
    "# Abaixo, filtramos o X_teste para os próximos classificadores (samples predizidas >NONE)\n",
    "X_test_maior_que_NONE = X_test[Y == 1]\n",
    "idx_maior_que_NONE = np.where(Y == 1)[0]  # salva os índices relativos ao Y que o classificador resultou na classe positiva (1)\n",
    "\n",
    "print(f\"Temos {len(unified_Y[unified_Y == 0])} da classe WEAK\")\n"
   ]
  },
  {
   "cell_type": "code",
   "execution_count": 112,
   "metadata": {},
   "outputs": [
    {
     "name": "stdout",
     "output_type": "stream",
     "text": [
      "Temos 356 da classe WEAK\n"
     ]
    }
   ],
   "source": [
    "# Passo 2: classificador >WEAK\n",
    "Y_2 = np.array(models[1].predict(X_test_maior_que_NONE))\n",
    "\n",
    "# Quem for == 0, é WEAK\n",
    "unified_Y[idx_maior_que_NONE[Y_2 == 0]] = 1  \n",
    "# Para os que o segundo classificador resultou na classe negativa, \n",
    "# colocamos a classe WEAK (1) em unified_Y (dentro dos índices que o classificador antigo definiu como (1))\n",
    "\n",
    "print(f\"Temos {len(unified_Y[unified_Y == 1])} da classe WEAK\")\n",
    "\n",
    "\n",
    "# Filtra quem é > WEAK\n",
    "X_test_maior_que_WEAK = X_test_maior_que_NONE[Y_2 == 1]\n",
    "idx_maior_que_WEAK = idx_maior_que_NONE[Y_2 == 1]  # salva os índices que o classificador resultou na classe positiva (1) '>WEAK'\n",
    "\n"
   ]
  },
  {
   "cell_type": "code",
   "execution_count": 113,
   "metadata": {},
   "outputs": [
    {
     "name": "stdout",
     "output_type": "stream",
     "text": [
      "Temos 14 da classe MODERATE\n",
      "Temos 0 da classe STRONG\n"
     ]
    }
   ],
   "source": [
    "# Passo 3: >MODERATE\n",
    "Y_3 = np.array(models[2].predict(X_test_maior_que_WEAK))\n",
    "\n",
    "# Quem for == 0, é MODERATE\n",
    "unified_Y[idx_maior_que_WEAK[Y_3 == 0]] = 2  \n",
    "\n",
    "# Quem for == 1, é STRONG\n",
    "unified_Y[idx_maior_que_WEAK[Y_3 == 1]] = 3  \n",
    "\n",
    "print(f\"Temos {len(unified_Y[unified_Y == 2])} da classe MODERATE\")\n",
    "\n",
    "print(f\"Temos {len(unified_Y[unified_Y == 3])} da classe STRONG\")"
   ]
  },
  {
   "cell_type": "code",
   "execution_count": 114,
   "metadata": {},
   "outputs": [
    {
     "name": "stderr",
     "output_type": "stream",
     "text": [
      "c:\\Users\\parai\\anaconda3\\Lib\\site-packages\\sklearn\\metrics\\_classification.py:1531: UndefinedMetricWarning: Precision is ill-defined and being set to 0.0 in labels with no predicted samples. Use `zero_division` parameter to control this behavior.\n",
      "  _warn_prf(average, modifier, f\"{metric.capitalize()} is\", len(result))\n",
      "c:\\Users\\parai\\anaconda3\\Lib\\site-packages\\sklearn\\metrics\\_classification.py:1531: UndefinedMetricWarning: Precision is ill-defined and being set to 0.0 in labels with no predicted samples. Use `zero_division` parameter to control this behavior.\n",
      "  _warn_prf(average, modifier, f\"{metric.capitalize()} is\", len(result))\n",
      "c:\\Users\\parai\\anaconda3\\Lib\\site-packages\\sklearn\\metrics\\_classification.py:1531: UndefinedMetricWarning: Precision is ill-defined and being set to 0.0 in labels with no predicted samples. Use `zero_division` parameter to control this behavior.\n",
      "  _warn_prf(average, modifier, f\"{metric.capitalize()} is\", len(result))\n"
     ]
    },
    {
     "name": "stdout",
     "output_type": "stream",
     "text": [
      "              precision    recall  f1-score   support\n",
      "\n",
      "         0.0       0.94      0.99      0.97      8769\n",
      "         1.0       0.73      0.34      0.47       757\n",
      "         2.0       0.14      0.04      0.06        50\n",
      "         3.0       0.00      0.00      0.00         4\n",
      "         4.0       0.00      0.00      0.00         2\n",
      "\n",
      "    accuracy                           0.94      9582\n",
      "   macro avg       0.36      0.28      0.30      9582\n",
      "weighted avg       0.92      0.94      0.92      9582\n",
      "\n"
     ]
    },
    {
     "data": {
      "image/png": "[encoded data removed]",
      "text/plain": [
       "<Figure size 640x480 with 2 Axes>"
      ]
     },
     "metadata": {},
     "output_type": "display_data"
    }
   ],
   "source": [
    "from sklearn.metrics import ConfusionMatrixDisplay, confusion_matrix, classification_report\n",
    "import matplotlib.pyplot as plt\n",
    "\n",
    "\n",
    "cm = confusion_matrix(y_test_, unified_Y)\n",
    "disp = ConfusionMatrixDisplay(confusion_matrix=cm, display_labels=np.unique(y_test_))\n",
    "disp.plot(cmap='Blues', values_format='d')\n",
    "plt.title('Matriz de Confusão - KNN')\n",
    "\n",
    "print(classification_report(y_test_, unified_Y))\n"
   ]
  },
  {
   "cell_type": "code",
   "execution_count": 115,
   "metadata": {},
   "outputs": [],
   "source": [
    "normal_cls = GradientBoostingClassifier()\n",
    "\n",
    "normal_cls.fit(X_train,y_train_)\n",
    "\n",
    "pred_ctrl = normal_cls.predict(X_test)"
   ]
  },
  {
   "cell_type": "code",
   "execution_count": 116,
   "metadata": {},
   "outputs": [
    {
     "name": "stderr",
     "output_type": "stream",
     "text": [
      "c:\\Users\\parai\\anaconda3\\Lib\\site-packages\\sklearn\\metrics\\_classification.py:1531: UndefinedMetricWarning: Precision is ill-defined and being set to 0.0 in labels with no predicted samples. Use `zero_division` parameter to control this behavior.\n",
      "  _warn_prf(average, modifier, f\"{metric.capitalize()} is\", len(result))\n",
      "c:\\Users\\parai\\anaconda3\\Lib\\site-packages\\sklearn\\metrics\\_classification.py:1531: UndefinedMetricWarning: Precision is ill-defined and being set to 0.0 in labels with no predicted samples. Use `zero_division` parameter to control this behavior.\n",
      "  _warn_prf(average, modifier, f\"{metric.capitalize()} is\", len(result))\n",
      "c:\\Users\\parai\\anaconda3\\Lib\\site-packages\\sklearn\\metrics\\_classification.py:1531: UndefinedMetricWarning: Precision is ill-defined and being set to 0.0 in labels with no predicted samples. Use `zero_division` parameter to control this behavior.\n",
      "  _warn_prf(average, modifier, f\"{metric.capitalize()} is\", len(result))\n"
     ]
    },
    {
     "name": "stdout",
     "output_type": "stream",
     "text": [
      "              precision    recall  f1-score   support\n",
      "\n",
      "         0.0       0.94      0.99      0.97      8769\n",
      "         1.0       0.72      0.32      0.44       757\n",
      "         2.0       0.12      0.04      0.06        50\n",
      "         3.0       0.50      0.25      0.33         4\n",
      "         4.0       0.00      0.00      0.00         2\n",
      "\n",
      "    accuracy                           0.93      9582\n",
      "   macro avg       0.46      0.32      0.36      9582\n",
      "weighted avg       0.92      0.93      0.92      9582\n",
      "\n"
     ]
    },
    {
     "data": {
      "image/png": "[encoded data removed]",
      "text/plain": [
       "<Figure size 640x480 with 2 Axes>"
      ]
     },
     "metadata": {},
     "output_type": "display_data"
    }
   ],
   "source": [
    "from sklearn.metrics import ConfusionMatrixDisplay, confusion_matrix, classification_report\n",
    "import matplotlib.pyplot as plt\n",
    "\n",
    "\n",
    "cm = confusion_matrix(y_test_, pred_ctrl)\n",
    "disp = ConfusionMatrixDisplay(confusion_matrix=cm, display_labels=np.unique(y_test_))\n",
    "disp.plot(cmap='Blues', values_format='d')\n",
    "plt.title('Matriz de Confusão - KNN')\n",
    "\n",
    "print(classification_report(y_test_, pred_ctrl))\n"
   ]
  },
  {
   "cell_type": "markdown",
   "metadata": {},
   "source": [
    "# (3) SHAP Values\n",
    "\n",
    "Considere novamente o problema de classificação multi-classes apresentado no item 2 deste\n",
    "trabalho. Considere também novos arquivos fornecidos cujos padrões de nomenclatura são:\n",
    "    - A652_train.parquet.gzip\n",
    "    - A652_val.parquet.gzip\n",
    "    - A652_test.parquet.gzip\n",
    "\n",
    "Nesses arquivos, 652 representa o identificador da estação meteorológica na qual foram\n",
    "observados os dados. Os nomes das colunas nesses arquivos permitem que você entenda o\n",
    "significado de cada coluna.\n",
    "\n",
    "Inicialmente, junto os exemplos de treino e validação em um único conjunto, para ter mais\n",
    "exemplos para treinar o modelo. Chame esse conjunto de D. Em seguida, crie um modelo de\n",
    "classificação binária usando o algoritmo GradientBoostingClassifier sobre D. Em seguida,\n",
    "apresente uma análise de explicabilidade do comportamento desse modelo sobre os exemplos\n",
    "do conjunto de testes correspondente. Você deve usar a biblioteca SHAP1 para dar suporte à\n",
    "sua análise. Apenas como sugestão (você deve refletir sobre as perguntas que entende fazerem\n",
    "sentido), seguem algumas perguntas para guiar a sua análise.\n",
    "\n",
    "1. Qual a importância de cada feature para uma predição específica?\n",
    "2. Como uma feature específica impacta a predição em geral?\n",
    "3. Como cada feature contribui para o desempenho do modelo?\n",
    "4. Quais instâncias da classe EXTREME são as mais influenciadas por uma determinada\n",
    "feature?    \n",
    "5. Quais features têm contribuições consistentes ou inconsistentes em instância da classe\n",
    "EXTREME?\n",
    "6. Como as predições mudam com variações nas features?\n",
    "7. Quais features estão mais correlacionadas com outras em termos de contribuição para as\n",
    "predições?"
   ]
  },
  {
   "cell_type": "markdown",
   "metadata": {},
   "source": [
    "# (4) Redução de dimensionalidade\n",
    "\n",
    "Considere novamente o problema de classificação ordinal multi-classes apresentado no item 2\n",
    "deste trabalho. Neste item, você irá realizar um experimento usando o algoritmo PCA. Inicialmente,\n",
    "usando a técnica three-way holdout, escolha o melhor valor para a quantidade de\n",
    "componentes principais, k. Chame o conjunto de dados original de D1, e de D2 o conjunto\n",
    "resultante da aplicação do PCA (com o melhor k) sobre D1. Ajuste dois modelos de classificação\n",
    "multi-classe, um sobre D1, e o outro sobre D2. Em ambos os casos, use o algoritmo\n",
    "GradientBoostingClassifier. Apresente uma análise comparativa entre esse dois modelos."
   ]
  },
  {
   "cell_type": "code",
   "execution_count": 117,
   "metadata": {},
   "outputs": [],
   "source": [
    "import pickle\n",
    "\n",
    "path = 'C:/Users/parai/Documents/Github - Aprendizado de Máquina/Machine-Learning/data/'\n",
    "filename = 'A652.pickle'\n",
    "f = open(f\"{path}/{filename}\", \"rb\")\n",
    "\n",
    "(X_train, y_train, X_val, y_val, X_test, y_test) = pickle.load(f)\n"
   ]
  },
  {
   "cell_type": "code",
   "execution_count": 118,
   "metadata": {},
   "outputs": [],
   "source": [
    "def discretize(y):\n",
    "    ystr = []\n",
    "    for i, y_ in enumerate(y):\n",
    "        if y_ == 0:\n",
    "            ystr.append('NONE')\n",
    "        if 5 >= y_ > 0:\n",
    "            ystr.append('WEAK')\n",
    "        if 25 >= y_ > 5:\n",
    "            ystr.append('MODERATE')\n",
    "        if 50 >= y_ > 25:\n",
    "            ystr.append('STRONG')\n",
    "        if y_ > 50:\n",
    "            ystr.append('EXTREME')\n",
    "    return ystr\n",
    "\n",
    "y_train_discretized = discretize(y_train)\n",
    "y_val_discretized = discretize(y_val)\n",
    "y_test_discretized = discretize(y_test)"
   ]
  },
  {
   "cell_type": "code",
   "execution_count": 119,
   "metadata": {},
   "outputs": [
    {
     "data": {
      "text/plain": [
       "(2506, 24)"
      ]
     },
     "execution_count": 119,
     "metadata": {},
     "output_type": "execute_result"
    }
   ],
   "source": [
    "X_val.shape\n",
    "\n",
    "# Existem 24 features !"
   ]
  },
  {
   "cell_type": "markdown",
   "metadata": {},
   "source": [
    "O **PCA** (Análise dos Componentes Principais) reduz a dimensionalidade dos dados enquanto preserva o máximo de variabilidade possível.\n",
    "\n",
    "Encontra novos aixos (chamados de principais componentes) que melhor representam os dados (que mais retêm a informação da variabilidade dos dados). Esses eixos também podem ser vistos como combinações lineares das variáveis originais.\n",
    "\n",
    "Ao aplicar o PCA, rotacionamos o sistema de eixos para alinhar com essas novas direções de máxima variabilidade. Depois, podemos descartar os componentes menos importantes (com menos variância) para reduzir a dimensionalidade."
   ]
  },
  {
   "cell_type": "code",
   "execution_count": null,
   "metadata": {},
   "outputs": [],
   "source": [
    "import numpy as np\n",
    "from scipy import linalg as LA\n",
    "\n",
    "def svd(Sigma):\n",
    "    \n",
    "    # SVD é um método que decompõe uma matriz A.\n",
    "    \n",
    "    # U é a matriz dos eigenvectors (matriz das direções principais)\n",
    "    # S é a matriz de valores singulares relacionada à raiz quadrada dos autovalores \n",
    "    \n",
    "    U, S, V = LA.svd(Sigma)\n",
    "    return U, S, V\n",
    "\n",
    "def pca(X, k):\n",
    "    \"\"\"\n",
    "    Performs Principal Component Analysis (PCA) on the input data matrix X and projects it onto the top-k principal components.\n",
    "\n",
    "    Notes:\n",
    "    ------\n",
    "    This implementation computes the covariance matrix of X, performs Singular Value Decomposition (SVD) to obtain\n",
    "    principal components, and projects the original data onto the subspace spanned by the top-k components.\n",
    "    \"\"\"\n",
    "    Sigma = np.cov(X, rowvar=False)\n",
    "    \n",
    "    U, S, V = svd(Sigma)\n",
    "    \n",
    "    W = U[:, :k]\n",
    "    \n",
    "    X_projected = np.matmul(X, W)\n",
    "    \n",
    "    # cálculo da proporção da variancia explicada\n",
    "    explained_variance = S**2\n",
    "    total_variance = np.sum(explained_variance)\n",
    "    explained_variance_ratio = explained_variance / total_variance\n",
    "    \n",
    "    return X_projected, W, explained_variance_ratio\n"
   ]
  },
  {
   "cell_type": "code",
   "execution_count": 121,
   "metadata": {},
   "outputs": [
    {
     "name": "stdout",
     "output_type": "stream",
     "text": [
      "Original Data Matrix: [0.31336406 0.69135802 0.78571429 0.43604944 0.34234762 0.9330127\n",
      " 0.75       0.         0.30414747 0.67901235 0.76785714 0.46681666\n",
      " 0.28462957 0.98296291 0.62940952 0.         0.29953917 0.64609053\n",
      " 0.75       0.43996532 0.26886881 1.         0.5        0.        ]\n",
      "\n",
      "Standardized Data Matrix: [-0.02737928  0.83656228  0.01639933  0.06350851 -0.34350587  1.2256057\n",
      "  0.71196015 -0.15340589 -0.10854085  0.7620771  -0.09266042  0.3087876\n",
      " -0.97806072  1.36760464  0.37035148 -0.15386365 -0.14912165  0.56166329\n",
      " -0.20199367  0.09473688 -1.15249657  1.41659752  0.00331155 -0.15386365]\n"
     ]
    }
   ],
   "source": [
    "import numpy as np\n",
    "from sklearn.preprocessing import StandardScaler\n",
    "\n",
    "# Podemos plotar o scree plot para ver quantas componentes principais possuem baixa variabilidade nos dados\n",
    "\n",
    "print(f\"Original Data Matrix: {X_val[0]}\")\n",
    "\n",
    "# Standardized data matrix\n",
    "scaler = StandardScaler()\n",
    "standardized_X_val = scaler.fit_transform(X_val)\n",
    "standardized_X_train = scaler.transform(X_train)\n",
    "standardized_X_test = scaler.transform(X_test)\n",
    "\n",
    "print(f\"\\nStandardized Data Matrix: {standardized_X_val[0]}\")\n"
   ]
  },
  {
   "cell_type": "code",
   "execution_count": 122,
   "metadata": {},
   "outputs": [
    {
     "name": "stdout",
     "output_type": "stream",
     "text": [
      "(2506, 20)\n"
     ]
    }
   ],
   "source": [
    "# Aplicamos a função já implementada do PCA, passando:\n",
    "# X normalizado (média = 0)\n",
    "# k = 20 componentes (redução de 4 features)\n",
    "\n",
    "# A função retorna X_projected, que é o conjunto X_train projetado nas top-K principais componentes.\n",
    "\n",
    "X_projected, components, explained_variance = pca(standardized_X_val, 20)\n",
    "\n",
    "print(X_projected.shape) # Shape agora terá o tamanho com o número reduzido de features"
   ]
  },
  {
   "cell_type": "code",
   "execution_count": 123,
   "metadata": {},
   "outputs": [
    {
     "name": "stdout",
     "output_type": "stream",
     "text": [
      "0.9999999999999999\n"
     ]
    },
    {
     "data": {
      "image/png": "[encoded data removed]",
      "text/plain": [
       "<Figure size 640x480 with 1 Axes>"
      ]
     },
     "metadata": {},
     "output_type": "display_data"
    }
   ],
   "source": [
    "import seaborn as sns\n",
    "import matplotlib.pyplot as plt\n",
    "\n",
    "# Scree Plot mostra a variância explicada por cada componente principal.\n",
    "# Podemos encarar como a porcentagem (%) da explicabilidade da variância.\n",
    "# Ou seja, a soma de todas as porcentagens das componentes dará 1.\n",
    "print(np.sum(explained_variance))\n",
    "\n",
    "sns.barplot(x=np.arange(len(explained_variance)), y=explained_variance)\n",
    "plt.xlabel(\"Principal Component\")\n",
    "plt.ylabel(\"Explained Variance Ratio\")\n",
    "plt.title(\"Scree Plot\")\n",
    "plt.grid(True, axis='y')\n",
    "plt.show()\n",
    "\n",
    "# Naturalmente, a primeira componente principal é a que mais representa a variabilidade dos dados\n",
    "# Vemos que, para as outras componentes principais não têm grande explicabilidade da variância\n",
    "# A partir da componente 10, a proporção vai ficando muito próxima de 0.\n",
    "\n",
    "# LOGO, podemos reduzir mais ainda sem ter perda significativa da variância dos dados originais."
   ]
  },
  {
   "cell_type": "code",
   "execution_count": 125,
   "metadata": {},
   "outputs": [
    {
     "name": "stdout",
     "output_type": "stream",
     "text": [
      "(2506, 11)\n"
     ]
    }
   ],
   "source": [
    "from sklearn.decomposition import PCA\n",
    "\n",
    "# Podemos usar essa função já implementada do sklearn para reduzir a dimensionalidade:\n",
    "\n",
    "# Além disso, ao invés de especificar a quantidade de principais componentes a serem preservadas,\n",
    "# é possível definir esse parâmetro como um valor entre 0 a 1, indicando a \"explained_variance\" acumulada a ser mantida.\n",
    "\n",
    "pca_val = PCA(n_components = 0.95)\n",
    "projected_x_val = pca_val.fit_transform(standardized_X_val)\n",
    "\n",
    "print(projected_x_val.shape)\n",
    "# Para reter 95% da variabilidade dos dados, foi possível reduzir à 11 variáveis do dataset original (como vimos no scree plot).\n",
    "\n",
    "\n",
    "# Aplicamos somente o .fit_transform() no conjunto de treinamento e o fit() no de teste:\n",
    "pca = PCA(n_components = 11)\n",
    "D2 = pca.fit_transform(standardized_X_train)\n",
    "D2_test = pca.transform(standardized_X_test)"
   ]
  },
  {
   "cell_type": "code",
   "execution_count": 126,
   "metadata": {},
   "outputs": [
    {
     "data": {
      "text/plain": [
       "(10012, 11)"
      ]
     },
     "execution_count": 126,
     "metadata": {},
     "output_type": "execute_result"
    }
   ],
   "source": [
    "D2.shape"
   ]
  },
  {
   "cell_type": "markdown",
   "metadata": {},
   "source": [
    "### Análise comparativa entre dois modelos: D1 e D2."
   ]
  },
  {
   "cell_type": "code",
   "execution_count": 127,
   "metadata": {},
   "outputs": [],
   "source": [
    "from sklearn.ensemble import GradientBoostingClassifier\n",
    "\n",
    "gbc_D1 = GradientBoostingClassifier()\n",
    "gbc_D1.fit(X_train, y_train_discretized)\n",
    "y_pred_D1 = gbc_D1.predict(X_test)\n",
    "\n",
    "gbc_D2 = GradientBoostingClassifier()\n",
    "gbc_D2.fit(D2, y_train_discretized)\n",
    "y_pred_D2 = gbc_D2.predict(D2_test)\n"
   ]
  },
  {
   "cell_type": "code",
   "execution_count": 128,
   "metadata": {},
   "outputs": [
    {
     "name": "stderr",
     "output_type": "stream",
     "text": [
      "c:\\Users\\parai\\anaconda3\\Lib\\site-packages\\sklearn\\metrics\\_classification.py:1531: UndefinedMetricWarning: Precision is ill-defined and being set to 0.0 in labels with no predicted samples. Use `zero_division` parameter to control this behavior.\n",
      "  _warn_prf(average, modifier, f\"{metric.capitalize()} is\", len(result))\n",
      "c:\\Users\\parai\\anaconda3\\Lib\\site-packages\\sklearn\\metrics\\_classification.py:1531: UndefinedMetricWarning: Precision is ill-defined and being set to 0.0 in labels with no predicted samples. Use `zero_division` parameter to control this behavior.\n",
      "  _warn_prf(average, modifier, f\"{metric.capitalize()} is\", len(result))\n"
     ]
    },
    {
     "name": "stdout",
     "output_type": "stream",
     "text": [
      "              precision    recall  f1-score   support\n",
      "\n",
      "     EXTREME       0.00      0.00      0.00         2\n",
      "    MODERATE       0.10      0.04      0.06        50\n",
      "        NONE       0.94      0.99      0.96      8769\n",
      "      STRONG       0.00      0.00      0.00         4\n",
      "        WEAK       0.67      0.30      0.41       757\n",
      "\n",
      "    accuracy                           0.93      9582\n",
      "   macro avg       0.34      0.27      0.29      9582\n",
      "weighted avg       0.91      0.93      0.92      9582\n",
      "\n"
     ]
    },
    {
     "name": "stderr",
     "output_type": "stream",
     "text": [
      "c:\\Users\\parai\\anaconda3\\Lib\\site-packages\\sklearn\\metrics\\_classification.py:1531: UndefinedMetricWarning: Precision is ill-defined and being set to 0.0 in labels with no predicted samples. Use `zero_division` parameter to control this behavior.\n",
      "  _warn_prf(average, modifier, f\"{metric.capitalize()} is\", len(result))\n"
     ]
    }
   ],
   "source": [
    "from sklearn.metrics import classification_report\n",
    "\n",
    "\n",
    "# SEM DIMENSIONALITY REDUCTION\n",
    "print(classification_report(y_test_discretized, y_pred_D1))"
   ]
  },
  {
   "cell_type": "code",
   "execution_count": 129,
   "metadata": {},
   "outputs": [
    {
     "name": "stdout",
     "output_type": "stream",
     "text": [
      "              precision    recall  f1-score   support\n",
      "\n",
      "     EXTREME       0.00      0.00      0.00         2\n",
      "    MODERATE       0.06      0.02      0.03        50\n",
      "        NONE       0.94      0.99      0.96      8769\n",
      "      STRONG       0.00      0.00      0.00         4\n",
      "        WEAK       0.68      0.25      0.36       757\n",
      "\n",
      "    accuracy                           0.93      9582\n",
      "   macro avg       0.33      0.25      0.27      9582\n",
      "weighted avg       0.91      0.93      0.91      9582\n",
      "\n"
     ]
    },
    {
     "name": "stderr",
     "output_type": "stream",
     "text": [
      "c:\\Users\\parai\\anaconda3\\Lib\\site-packages\\sklearn\\metrics\\_classification.py:1531: UndefinedMetricWarning: Precision is ill-defined and being set to 0.0 in labels with no predicted samples. Use `zero_division` parameter to control this behavior.\n",
      "  _warn_prf(average, modifier, f\"{metric.capitalize()} is\", len(result))\n",
      "c:\\Users\\parai\\anaconda3\\Lib\\site-packages\\sklearn\\metrics\\_classification.py:1531: UndefinedMetricWarning: Precision is ill-defined and being set to 0.0 in labels with no predicted samples. Use `zero_division` parameter to control this behavior.\n",
      "  _warn_prf(average, modifier, f\"{metric.capitalize()} is\", len(result))\n",
      "c:\\Users\\parai\\anaconda3\\Lib\\site-packages\\sklearn\\metrics\\_classification.py:1531: UndefinedMetricWarning: Precision is ill-defined and being set to 0.0 in labels with no predicted samples. Use `zero_division` parameter to control this behavior.\n",
      "  _warn_prf(average, modifier, f\"{metric.capitalize()} is\", len(result))\n"
     ]
    }
   ],
   "source": [
    "from sklearn.metrics import classification_report\n",
    "\n",
    "\n",
    "# COM DIMENSIONALITY REDUCTION\n",
    "print(classification_report(y_test_discretized, y_pred_D2))"
   ]
  },
  {
   "cell_type": "markdown",
   "metadata": {},
   "source": [
    "**Análise Comparativa:**\n",
    "\n",
    "Percebemos que existe a classe majoritária 'NONE' que domina o conjunto de dados e as outras que possuem poucos exemplos que o modelo nem conseguiu aprender (e.g.: 'EXTREME', 'STRONG').\n",
    "\n",
    "Para tanto, a segunda maior classe, 'WEAK', possui uma precisão significativa e o recall baixo (modelo não detecta bem a classe 1 (Chuva), tendo muitos falsos negativos).\n",
    "\n",
    "No entanto, analisando os dois modelos, percebe-se que não há uma grande diferença de performance, o que é interessante, levando em consideração a grande redução de dimensionalidade que foi realizada.\n",
    "\n",
    "\n",
    "---"
   ]
  },
  {
   "cell_type": "markdown",
   "metadata": {},
   "source": [
    "# (5) Predição Conforme\n",
    "\n",
    "Considere novamente o conjunto de dados diamonds. Neste item, você\n",
    "deve usar a técnica de predição conforme (conformal prediction) para produzir intervalos de\n",
    "predição para os exemplos que separar para seu conjunto de testes. Apresente uma análise\n",
    "para os exemplos do conjunto de testes que apresentarem o maior e o menor intervalos."
   ]
  },
  {
   "cell_type": "code",
   "execution_count": 134,
   "metadata": {},
   "outputs": [],
   "source": [
    "import pandas as pd\n",
    "\n",
    "url = 'https://raw.githubusercontent.com/AILAB-CEFET-RJ/cic1205/refs/heads/main/data/diamonds.csv'\n",
    "\n",
    "diamonds = pd.read_csv(url)\n"
   ]
  },
  {
   "cell_type": "code",
   "execution_count": 135,
   "metadata": {},
   "outputs": [
    {
     "data": {
      "text/html": [
       "<div>\n",
       "<style scoped>\n",
       "    .dataframe tbody tr th:only-of-type {\n",
       "        vertical-align: middle;\n",
       "    }\n",
       "\n",
       "    .dataframe tbody tr th {\n",
       "        vertical-align: top;\n",
       "    }\n",
       "\n",
       "    .dataframe thead th {\n",
       "        text-align: right;\n",
       "    }\n",
       "</style>\n",
       "<table border=\"1\" class=\"dataframe\">\n",
       "  <thead>\n",
       "    <tr style=\"text-align: right;\">\n",
       "      <th></th>\n",
       "      <th>carat</th>\n",
       "      <th>cut</th>\n",
       "      <th>color</th>\n",
       "      <th>clarity</th>\n",
       "      <th>depth</th>\n",
       "      <th>table</th>\n",
       "      <th>price</th>\n",
       "      <th>x</th>\n",
       "      <th>y</th>\n",
       "      <th>z</th>\n",
       "    </tr>\n",
       "  </thead>\n",
       "  <tbody>\n",
       "    <tr>\n",
       "      <th>0</th>\n",
       "      <td>-1.198168</td>\n",
       "      <td>4.0</td>\n",
       "      <td>5.0</td>\n",
       "      <td>1.0</td>\n",
       "      <td>-0.174092</td>\n",
       "      <td>-1.099672</td>\n",
       "      <td>-0.904095</td>\n",
       "      <td>-1.587837</td>\n",
       "      <td>-1.536196</td>\n",
       "      <td>-1.571129</td>\n",
       "    </tr>\n",
       "    <tr>\n",
       "      <th>1</th>\n",
       "      <td>-1.240361</td>\n",
       "      <td>3.0</td>\n",
       "      <td>5.0</td>\n",
       "      <td>2.0</td>\n",
       "      <td>-1.360738</td>\n",
       "      <td>1.585529</td>\n",
       "      <td>-0.904095</td>\n",
       "      <td>-1.641325</td>\n",
       "      <td>-1.658774</td>\n",
       "      <td>-1.741175</td>\n",
       "    </tr>\n",
       "    <tr>\n",
       "      <th>2</th>\n",
       "      <td>-1.198168</td>\n",
       "      <td>1.0</td>\n",
       "      <td>5.0</td>\n",
       "      <td>4.0</td>\n",
       "      <td>-3.385019</td>\n",
       "      <td>3.375663</td>\n",
       "      <td>-0.903844</td>\n",
       "      <td>-1.498691</td>\n",
       "      <td>-1.457395</td>\n",
       "      <td>-1.741175</td>\n",
       "    </tr>\n",
       "    <tr>\n",
       "      <th>3</th>\n",
       "      <td>-1.071587</td>\n",
       "      <td>3.0</td>\n",
       "      <td>1.0</td>\n",
       "      <td>3.0</td>\n",
       "      <td>0.454133</td>\n",
       "      <td>0.242928</td>\n",
       "      <td>-0.902090</td>\n",
       "      <td>-1.364971</td>\n",
       "      <td>-1.317305</td>\n",
       "      <td>-1.287720</td>\n",
       "    </tr>\n",
       "    <tr>\n",
       "      <th>4</th>\n",
       "      <td>-1.029394</td>\n",
       "      <td>1.0</td>\n",
       "      <td>0.0</td>\n",
       "      <td>1.0</td>\n",
       "      <td>1.082358</td>\n",
       "      <td>0.242928</td>\n",
       "      <td>-0.901839</td>\n",
       "      <td>-1.240167</td>\n",
       "      <td>-1.212238</td>\n",
       "      <td>-1.117674</td>\n",
       "    </tr>\n",
       "  </tbody>\n",
       "</table>\n",
       "</div>"
      ],
      "text/plain": [
       "      carat  cut  color  clarity     depth     table     price         x  \\\n",
       "0 -1.198168  4.0    5.0      1.0 -0.174092 -1.099672 -0.904095 -1.587837   \n",
       "1 -1.240361  3.0    5.0      2.0 -1.360738  1.585529 -0.904095 -1.641325   \n",
       "2 -1.198168  1.0    5.0      4.0 -3.385019  3.375663 -0.903844 -1.498691   \n",
       "3 -1.071587  3.0    1.0      3.0  0.454133  0.242928 -0.902090 -1.364971   \n",
       "4 -1.029394  1.0    0.0      1.0  1.082358  0.242928 -0.901839 -1.240167   \n",
       "\n",
       "          y         z  \n",
       "0 -1.536196 -1.571129  \n",
       "1 -1.658774 -1.741175  \n",
       "2 -1.457395 -1.741175  \n",
       "3 -1.317305 -1.287720  \n",
       "4 -1.212238 -1.117674  "
      ]
     },
     "execution_count": 135,
     "metadata": {},
     "output_type": "execute_result"
    }
   ],
   "source": [
    "# Etapa de pré-processamento dos dados\n",
    "\n",
    "# Funções já implementadas no bloco da 1a questão:\n",
    "encode_variables_diamonds(diamonds)\n",
    "apply_standard_scaler(diamonds)\n",
    "\n",
    "diamonds.head()"
   ]
  },
  {
   "cell_type": "code",
   "execution_count": 136,
   "metadata": {},
   "outputs": [],
   "source": [
    "from sklearn.model_selection import train_test_split\n",
    "\n",
    "y_diamonds = diamonds['price']\n",
    "X_diamonds = diamonds.drop(columns=['price'])\n",
    "\n",
    "X_train, X_temp, y_train, y_temp = train_test_split(X_diamonds, y_diamonds, train_size=0.8, random_state=42)\n",
    "\n",
    "X_calib, X_test, y_calib, y_test = train_test_split(X_temp, y_temp, train_size=0.5, random_state=42)\n"
   ]
  },
  {
   "cell_type": "code",
   "execution_count": null,
   "metadata": {},
   "outputs": [],
   "source": [
    "from sklearn.ensemble import GradientBoostingRegressor\n",
    "\n",
    "\n",
    "# Treinando GBR sob diferentes quantis: [5%, 95% e 50%]\n",
    "# na ordem certa (lower, higher e median)\n",
    "alphas = [0.05, 0.95, 0.5]\n",
    "models = []\n",
    "for a in alphas:\n",
    "    m = GradientBoostingRegressor(loss='quantile',alpha=a)\n",
    "    m.fit(X_train, y_train)\n",
    "    models.append(m)"
   ]
  },
  {
   "cell_type": "code",
   "execution_count": 137,
   "metadata": {},
   "outputs": [],
   "source": [
    "from sklearn.ensemble import GradientBoostingRegressor\n",
    "\n",
    "\n",
    "# Esperamos que não mais do que 10% das observações irão cair fora do intervalo de predição pelo MAPIE\n",
    "regressor = GradientBoostingRegressor(loss='quantile',alpha=0.1)"
   ]
  },
  {
   "cell_type": "code",
   "execution_count": 138,
   "metadata": {},
   "outputs": [],
   "source": [
    "from mapie.regression import MapieQuantileRegressor\n",
    "\n",
    "# Model Agnostic Prediction Interval Estimator\n",
    "\n",
    "# Tratamento automático de monotonicidade\n",
    "alpha = 0.1\n",
    "mapie = MapieQuantileRegressor(estimator=regressor, alpha=alpha, cv=\"split\")"
   ]
  },
  {
   "cell_type": "code",
   "execution_count": 139,
   "metadata": {},
   "outputs": [
    {
     "data": {
      "text/html": [
       "<style>#sk-container-id-1 {\n",
       "  /* Definition of color scheme common for light and dark mode */\n",
       "  --sklearn-color-text: black;\n",
       "  --sklearn-color-line: gray;\n",
       "  /* Definition of color scheme for unfitted estimators */\n",
       "  --sklearn-color-unfitted-level-0: #fff5e6;\n",
       "  --sklearn-color-unfitted-level-1: #f6e4d2;\n",
       "  --sklearn-color-unfitted-level-2: #ffe0b3;\n",
       "  --sklearn-color-unfitted-level-3: chocolate;\n",
       "  /* Definition of color scheme for fitted estimators */\n",
       "  --sklearn-color-fitted-level-0: #f0f8ff;\n",
       "  --sklearn-color-fitted-level-1: #d4ebff;\n",
       "  --sklearn-color-fitted-level-2: #b3dbfd;\n",
       "  --sklearn-color-fitted-level-3: cornflowerblue;\n",
       "\n",
       "  /* Specific color for light theme */\n",
       "  --sklearn-color-text-on-default-background: var(--sg-text-color, var(--theme-code-foreground, var(--jp-content-font-color1, black)));\n",
       "  --sklearn-color-background: var(--sg-background-color, var(--theme-background, var(--jp-layout-color0, white)));\n",
       "  --sklearn-color-border-box: var(--sg-text-color, var(--theme-code-foreground, var(--jp-content-font-color1, black)));\n",
       "  --sklearn-color-icon: #696969;\n",
       "\n",
       "  @media (prefers-color-scheme: dark) {\n",
       "    /* Redefinition of color scheme for dark theme */\n",
       "    --sklearn-color-text-on-default-background: var(--sg-text-color, var(--theme-code-foreground, var(--jp-content-font-color1, white)));\n",
       "    --sklearn-color-background: var(--sg-background-color, var(--theme-background, var(--jp-layout-color0, #111)));\n",
       "    --sklearn-color-border-box: var(--sg-text-color, var(--theme-code-foreground, var(--jp-content-font-color1, white)));\n",
       "    --sklearn-color-icon: #878787;\n",
       "  }\n",
       "}\n",
       "\n",
       "#sk-container-id-1 {\n",
       "  color: var(--sklearn-color-text);\n",
       "}\n",
       "\n",
       "#sk-container-id-1 pre {\n",
       "  padding: 0;\n",
       "}\n",
       "\n",
       "#sk-container-id-1 input.sk-hidden--visually {\n",
       "  border: 0;\n",
       "  clip: rect(1px 1px 1px 1px);\n",
       "  clip: rect(1px, 1px, 1px, 1px);\n",
       "  height: 1px;\n",
       "  margin: -1px;\n",
       "  overflow: hidden;\n",
       "  padding: 0;\n",
       "  position: absolute;\n",
       "  width: 1px;\n",
       "}\n",
       "\n",
       "#sk-container-id-1 div.sk-dashed-wrapped {\n",
       "  border: 1px dashed var(--sklearn-color-line);\n",
       "  margin: 0 0.4em 0.5em 0.4em;\n",
       "  box-sizing: border-box;\n",
       "  padding-bottom: 0.4em;\n",
       "  background-color: var(--sklearn-color-background);\n",
       "}\n",
       "\n",
       "#sk-container-id-1 div.sk-container {\n",
       "  /* jupyter's `normalize.less` sets `[hidden] { display: none; }`\n",
       "     but bootstrap.min.css set `[hidden] { display: none !important; }`\n",
       "     so we also need the `!important` here to be able to override the\n",
       "     default hidden behavior on the sphinx rendered scikit-learn.org.\n",
       "     See: https://github.com/scikit-learn/scikit-learn/issues/21755 */\n",
       "  display: inline-block !important;\n",
       "  position: relative;\n",
       "}\n",
       "\n",
       "#sk-container-id-1 div.sk-text-repr-fallback {\n",
       "  display: none;\n",
       "}\n",
       "\n",
       "div.sk-parallel-item,\n",
       "div.sk-serial,\n",
       "div.sk-item {\n",
       "  /* draw centered vertical line to link estimators */\n",
       "  background-image: linear-gradient(var(--sklearn-color-text-on-default-background), var(--sklearn-color-text-on-default-background));\n",
       "  background-size: 2px 100%;\n",
       "  background-repeat: no-repeat;\n",
       "  background-position: center center;\n",
       "}\n",
       "\n",
       "/* Parallel-specific style estimator block */\n",
       "\n",
       "#sk-container-id-1 div.sk-parallel-item::after {\n",
       "  content: \"\";\n",
       "  width: 100%;\n",
       "  border-bottom: 2px solid var(--sklearn-color-text-on-default-background);\n",
       "  flex-grow: 1;\n",
       "}\n",
       "\n",
       "#sk-container-id-1 div.sk-parallel {\n",
       "  display: flex;\n",
       "  align-items: stretch;\n",
       "  justify-content: center;\n",
       "  background-color: var(--sklearn-color-background);\n",
       "  position: relative;\n",
       "}\n",
       "\n",
       "#sk-container-id-1 div.sk-parallel-item {\n",
       "  display: flex;\n",
       "  flex-direction: column;\n",
       "}\n",
       "\n",
       "#sk-container-id-1 div.sk-parallel-item:first-child::after {\n",
       "  align-self: flex-end;\n",
       "  width: 50%;\n",
       "}\n",
       "\n",
       "#sk-container-id-1 div.sk-parallel-item:last-child::after {\n",
       "  align-self: flex-start;\n",
       "  width: 50%;\n",
       "}\n",
       "\n",
       "#sk-container-id-1 div.sk-parallel-item:only-child::after {\n",
       "  width: 0;\n",
       "}\n",
       "\n",
       "/* Serial-specific style estimator block */\n",
       "\n",
       "#sk-container-id-1 div.sk-serial {\n",
       "  display: flex;\n",
       "  flex-direction: column;\n",
       "  align-items: center;\n",
       "  background-color: var(--sklearn-color-background);\n",
       "  padding-right: 1em;\n",
       "  padding-left: 1em;\n",
       "}\n",
       "\n",
       "\n",
       "/* Toggleable style: style used for estimator/Pipeline/ColumnTransformer box that is\n",
       "clickable and can be expanded/collapsed.\n",
       "- Pipeline and ColumnTransformer use this feature and define the default style\n",
       "- Estimators will overwrite some part of the style using the `sk-estimator` class\n",
       "*/\n",
       "\n",
       "/* Pipeline and ColumnTransformer style (default) */\n",
       "\n",
       "#sk-container-id-1 div.sk-toggleable {\n",
       "  /* Default theme specific background. It is overwritten whether we have a\n",
       "  specific estimator or a Pipeline/ColumnTransformer */\n",
       "  background-color: var(--sklearn-color-background);\n",
       "}\n",
       "\n",
       "/* Toggleable label */\n",
       "#sk-container-id-1 label.sk-toggleable__label {\n",
       "  cursor: pointer;\n",
       "  display: block;\n",
       "  width: 100%;\n",
       "  margin-bottom: 0;\n",
       "  padding: 0.5em;\n",
       "  box-sizing: border-box;\n",
       "  text-align: center;\n",
       "}\n",
       "\n",
       "#sk-container-id-1 label.sk-toggleable__label-arrow:before {\n",
       "  /* Arrow on the left of the label */\n",
       "  content: \"▸\";\n",
       "  float: left;\n",
       "  margin-right: 0.25em;\n",
       "  color: var(--sklearn-color-icon);\n",
       "}\n",
       "\n",
       "#sk-container-id-1 label.sk-toggleable__label-arrow:hover:before {\n",
       "  color: var(--sklearn-color-text);\n",
       "}\n",
       "\n",
       "/* Toggleable content - dropdown */\n",
       "\n",
       "#sk-container-id-1 div.sk-toggleable__content {\n",
       "  max-height: 0;\n",
       "  max-width: 0;\n",
       "  overflow: hidden;\n",
       "  text-align: left;\n",
       "  /* unfitted */\n",
       "  background-color: var(--sklearn-color-unfitted-level-0);\n",
       "}\n",
       "\n",
       "#sk-container-id-1 div.sk-toggleable__content.fitted {\n",
       "  /* fitted */\n",
       "  background-color: var(--sklearn-color-fitted-level-0);\n",
       "}\n",
       "\n",
       "#sk-container-id-1 div.sk-toggleable__content pre {\n",
       "  margin: 0.2em;\n",
       "  border-radius: 0.25em;\n",
       "  color: var(--sklearn-color-text);\n",
       "  /* unfitted */\n",
       "  background-color: var(--sklearn-color-unfitted-level-0);\n",
       "}\n",
       "\n",
       "#sk-container-id-1 div.sk-toggleable__content.fitted pre {\n",
       "  /* unfitted */\n",
       "  background-color: var(--sklearn-color-fitted-level-0);\n",
       "}\n",
       "\n",
       "#sk-container-id-1 input.sk-toggleable__control:checked~div.sk-toggleable__content {\n",
       "  /* Expand drop-down */\n",
       "  max-height: 200px;\n",
       "  max-width: 100%;\n",
       "  overflow: auto;\n",
       "}\n",
       "\n",
       "#sk-container-id-1 input.sk-toggleable__control:checked~label.sk-toggleable__label-arrow:before {\n",
       "  content: \"▾\";\n",
       "}\n",
       "\n",
       "/* Pipeline/ColumnTransformer-specific style */\n",
       "\n",
       "#sk-container-id-1 div.sk-label input.sk-toggleable__control:checked~label.sk-toggleable__label {\n",
       "  color: var(--sklearn-color-text);\n",
       "  background-color: var(--sklearn-color-unfitted-level-2);\n",
       "}\n",
       "\n",
       "#sk-container-id-1 div.sk-label.fitted input.sk-toggleable__control:checked~label.sk-toggleable__label {\n",
       "  background-color: var(--sklearn-color-fitted-level-2);\n",
       "}\n",
       "\n",
       "/* Estimator-specific style */\n",
       "\n",
       "/* Colorize estimator box */\n",
       "#sk-container-id-1 div.sk-estimator input.sk-toggleable__control:checked~label.sk-toggleable__label {\n",
       "  /* unfitted */\n",
       "  background-color: var(--sklearn-color-unfitted-level-2);\n",
       "}\n",
       "\n",
       "#sk-container-id-1 div.sk-estimator.fitted input.sk-toggleable__control:checked~label.sk-toggleable__label {\n",
       "  /* fitted */\n",
       "  background-color: var(--sklearn-color-fitted-level-2);\n",
       "}\n",
       "\n",
       "#sk-container-id-1 div.sk-label label.sk-toggleable__label,\n",
       "#sk-container-id-1 div.sk-label label {\n",
       "  /* The background is the default theme color */\n",
       "  color: var(--sklearn-color-text-on-default-background);\n",
       "}\n",
       "\n",
       "/* On hover, darken the color of the background */\n",
       "#sk-container-id-1 div.sk-label:hover label.sk-toggleable__label {\n",
       "  color: var(--sklearn-color-text);\n",
       "  background-color: var(--sklearn-color-unfitted-level-2);\n",
       "}\n",
       "\n",
       "/* Label box, darken color on hover, fitted */\n",
       "#sk-container-id-1 div.sk-label.fitted:hover label.sk-toggleable__label.fitted {\n",
       "  color: var(--sklearn-color-text);\n",
       "  background-color: var(--sklearn-color-fitted-level-2);\n",
       "}\n",
       "\n",
       "/* Estimator label */\n",
       "\n",
       "#sk-container-id-1 div.sk-label label {\n",
       "  font-family: monospace;\n",
       "  font-weight: bold;\n",
       "  display: inline-block;\n",
       "  line-height: 1.2em;\n",
       "}\n",
       "\n",
       "#sk-container-id-1 div.sk-label-container {\n",
       "  text-align: center;\n",
       "}\n",
       "\n",
       "/* Estimator-specific */\n",
       "#sk-container-id-1 div.sk-estimator {\n",
       "  font-family: monospace;\n",
       "  border: 1px dotted var(--sklearn-color-border-box);\n",
       "  border-radius: 0.25em;\n",
       "  box-sizing: border-box;\n",
       "  margin-bottom: 0.5em;\n",
       "  /* unfitted */\n",
       "  background-color: var(--sklearn-color-unfitted-level-0);\n",
       "}\n",
       "\n",
       "#sk-container-id-1 div.sk-estimator.fitted {\n",
       "  /* fitted */\n",
       "  background-color: var(--sklearn-color-fitted-level-0);\n",
       "}\n",
       "\n",
       "/* on hover */\n",
       "#sk-container-id-1 div.sk-estimator:hover {\n",
       "  /* unfitted */\n",
       "  background-color: var(--sklearn-color-unfitted-level-2);\n",
       "}\n",
       "\n",
       "#sk-container-id-1 div.sk-estimator.fitted:hover {\n",
       "  /* fitted */\n",
       "  background-color: var(--sklearn-color-fitted-level-2);\n",
       "}\n",
       "\n",
       "/* Specification for estimator info (e.g. \"i\" and \"?\") */\n",
       "\n",
       "/* Common style for \"i\" and \"?\" */\n",
       "\n",
       ".sk-estimator-doc-link,\n",
       "a:link.sk-estimator-doc-link,\n",
       "a:visited.sk-estimator-doc-link {\n",
       "  float: right;\n",
       "  font-size: smaller;\n",
       "  line-height: 1em;\n",
       "  font-family: monospace;\n",
       "  background-color: var(--sklearn-color-background);\n",
       "  border-radius: 1em;\n",
       "  height: 1em;\n",
       "  width: 1em;\n",
       "  text-decoration: none !important;\n",
       "  margin-left: 1ex;\n",
       "  /* unfitted */\n",
       "  border: var(--sklearn-color-unfitted-level-1) 1pt solid;\n",
       "  color: var(--sklearn-color-unfitted-level-1);\n",
       "}\n",
       "\n",
       ".sk-estimator-doc-link.fitted,\n",
       "a:link.sk-estimator-doc-link.fitted,\n",
       "a:visited.sk-estimator-doc-link.fitted {\n",
       "  /* fitted */\n",
       "  border: var(--sklearn-color-fitted-level-1) 1pt solid;\n",
       "  color: var(--sklearn-color-fitted-level-1);\n",
       "}\n",
       "\n",
       "/* On hover */\n",
       "div.sk-estimator:hover .sk-estimator-doc-link:hover,\n",
       ".sk-estimator-doc-link:hover,\n",
       "div.sk-label-container:hover .sk-estimator-doc-link:hover,\n",
       ".sk-estimator-doc-link:hover {\n",
       "  /* unfitted */\n",
       "  background-color: var(--sklearn-color-unfitted-level-3);\n",
       "  color: var(--sklearn-color-background);\n",
       "  text-decoration: none;\n",
       "}\n",
       "\n",
       "div.sk-estimator.fitted:hover .sk-estimator-doc-link.fitted:hover,\n",
       ".sk-estimator-doc-link.fitted:hover,\n",
       "div.sk-label-container:hover .sk-estimator-doc-link.fitted:hover,\n",
       ".sk-estimator-doc-link.fitted:hover {\n",
       "  /* fitted */\n",
       "  background-color: var(--sklearn-color-fitted-level-3);\n",
       "  color: var(--sklearn-color-background);\n",
       "  text-decoration: none;\n",
       "}\n",
       "\n",
       "/* Span, style for the box shown on hovering the info icon */\n",
       ".sk-estimator-doc-link span {\n",
       "  display: none;\n",
       "  z-index: 9999;\n",
       "  position: relative;\n",
       "  font-weight: normal;\n",
       "  right: .2ex;\n",
       "  padding: .5ex;\n",
       "  margin: .5ex;\n",
       "  width: min-content;\n",
       "  min-width: 20ex;\n",
       "  max-width: 50ex;\n",
       "  color: var(--sklearn-color-text);\n",
       "  box-shadow: 2pt 2pt 4pt #999;\n",
       "  /* unfitted */\n",
       "  background: var(--sklearn-color-unfitted-level-0);\n",
       "  border: .5pt solid var(--sklearn-color-unfitted-level-3);\n",
       "}\n",
       "\n",
       ".sk-estimator-doc-link.fitted span {\n",
       "  /* fitted */\n",
       "  background: var(--sklearn-color-fitted-level-0);\n",
       "  border: var(--sklearn-color-fitted-level-3);\n",
       "}\n",
       "\n",
       ".sk-estimator-doc-link:hover span {\n",
       "  display: block;\n",
       "}\n",
       "\n",
       "/* \"?\"-specific style due to the `<a>` HTML tag */\n",
       "\n",
       "#sk-container-id-1 a.estimator_doc_link {\n",
       "  float: right;\n",
       "  font-size: 1rem;\n",
       "  line-height: 1em;\n",
       "  font-family: monospace;\n",
       "  background-color: var(--sklearn-color-background);\n",
       "  border-radius: 1rem;\n",
       "  height: 1rem;\n",
       "  width: 1rem;\n",
       "  text-decoration: none;\n",
       "  /* unfitted */\n",
       "  color: var(--sklearn-color-unfitted-level-1);\n",
       "  border: var(--sklearn-color-unfitted-level-1) 1pt solid;\n",
       "}\n",
       "\n",
       "#sk-container-id-1 a.estimator_doc_link.fitted {\n",
       "  /* fitted */\n",
       "  border: var(--sklearn-color-fitted-level-1) 1pt solid;\n",
       "  color: var(--sklearn-color-fitted-level-1);\n",
       "}\n",
       "\n",
       "/* On hover */\n",
       "#sk-container-id-1 a.estimator_doc_link:hover {\n",
       "  /* unfitted */\n",
       "  background-color: var(--sklearn-color-unfitted-level-3);\n",
       "  color: var(--sklearn-color-background);\n",
       "  text-decoration: none;\n",
       "}\n",
       "\n",
       "#sk-container-id-1 a.estimator_doc_link.fitted:hover {\n",
       "  /* fitted */\n",
       "  background-color: var(--sklearn-color-fitted-level-3);\n",
       "}\n",
       "</style><div id=\"sk-container-id-1\" class=\"sk-top-container\"><div class=\"sk-text-repr-fallback\"><pre>MapieQuantileRegressor(cv=&#x27;split&#x27;,\n",
       "                       estimator=GradientBoostingRegressor(alpha=0.1,\n",
       "                                                           loss=&#x27;quantile&#x27;))</pre><b>In a Jupyter environment, please rerun this cell to show the HTML representation or trust the notebook. <br />On GitHub, the HTML representation is unable to render, please try loading this page with nbviewer.org.</b></div><div class=\"sk-container\" hidden><div class=\"sk-item sk-dashed-wrapped\"><div class=\"sk-label-container\"><div class=\"sk-label fitted sk-toggleable\"><input class=\"sk-toggleable__control sk-hidden--visually\" id=\"sk-estimator-id-1\" type=\"checkbox\" ><label for=\"sk-estimator-id-1\" class=\"sk-toggleable__label fitted sk-toggleable__label-arrow fitted\">&nbsp;MapieQuantileRegressor<span class=\"sk-estimator-doc-link fitted\">i<span>Fitted</span></span></label><div class=\"sk-toggleable__content fitted\"><pre>MapieQuantileRegressor(cv=&#x27;split&#x27;,\n",
       "                       estimator=GradientBoostingRegressor(alpha=0.1,\n",
       "                                                           loss=&#x27;quantile&#x27;))</pre></div> </div></div><div class=\"sk-parallel\"><div class=\"sk-parallel-item\"><div class=\"sk-item\"><div class=\"sk-label-container\"><div class=\"sk-label fitted sk-toggleable\"><input class=\"sk-toggleable__control sk-hidden--visually\" id=\"sk-estimator-id-2\" type=\"checkbox\" ><label for=\"sk-estimator-id-2\" class=\"sk-toggleable__label fitted sk-toggleable__label-arrow fitted\">estimator: GradientBoostingRegressor</label><div class=\"sk-toggleable__content fitted\"><pre>GradientBoostingRegressor(alpha=0.1, loss=&#x27;quantile&#x27;)</pre></div> </div></div><div class=\"sk-serial\"><div class=\"sk-item\"><div class=\"sk-estimator fitted sk-toggleable\"><input class=\"sk-toggleable__control sk-hidden--visually\" id=\"sk-estimator-id-3\" type=\"checkbox\" ><label for=\"sk-estimator-id-3\" class=\"sk-toggleable__label fitted sk-toggleable__label-arrow fitted\">&nbsp;GradientBoostingRegressor<a class=\"sk-estimator-doc-link fitted\" rel=\"noreferrer\" target=\"_blank\" href=\"https://scikit-learn.org/1.5/modules/generated/sklearn.ensemble.GradientBoostingRegressor.html\">?<span>Documentation for GradientBoostingRegressor</span></a></label><div class=\"sk-toggleable__content fitted\"><pre>GradientBoostingRegressor(alpha=0.1, loss=&#x27;quantile&#x27;)</pre></div> </div></div></div></div></div></div></div></div></div>"
      ],
      "text/plain": [
       "MapieQuantileRegressor(cv='split',\n",
       "                       estimator=GradientBoostingRegressor(alpha=0.1,\n",
       "                                                           loss='quantile'))"
      ]
     },
     "execution_count": 139,
     "metadata": {},
     "output_type": "execute_result"
    }
   ],
   "source": [
    "# Train: data on which the predictive model learns\n",
    "# Calib: data on which MAPIE calibrates the intervals.\n",
    "\n",
    "mapie.fit(\n",
    "            X_train, y_train,\n",
    "            X_calib=X_calib, y_calib=y_calib,\n",
    "            random_state=42\n",
    "        )"
   ]
  },
  {
   "cell_type": "code",
   "execution_count": 143,
   "metadata": {},
   "outputs": [
    {
     "name": "stderr",
     "output_type": "stream",
     "text": [
      "INFO:root:The predictions are ill-sorted.\n",
      "INFO:root:The predictions are ill-sorted.\n"
     ]
    },
    {
     "name": "stdout",
     "output_type": "stream",
     "text": [
      "Average interval width: 0.53\n",
      "Coverage: 90.32%\n"
     ]
    }
   ],
   "source": [
    "from mapie.metrics import regression_coverage_score\n",
    "from mapie.metrics import regression_mean_width_score\n",
    "\n",
    "# y_pred: predição da mediana\n",
    "# y_qr: predição intervalar\n",
    "y_pred, y_qr = mapie.predict(X_test)\n",
    "\n",
    "coverage = regression_coverage_score(y_test, y_qr[:, 0, 0], y_qr[:, 1, 0])\n",
    "\n",
    "width = regression_mean_width_score(y_qr[:, 0, 0], y_qr[:, 1, 0])\n",
    "\n",
    "print(\"Average interval width: {:.2f}\".format(width))\n",
    "\n",
    "print(\"Coverage: {:.2%}\".format(coverage)) # como alpha = 0.1, coverage será próximo de 90%"
   ]
  },
  {
   "cell_type": "code",
   "execution_count": 144,
   "metadata": {},
   "outputs": [
    {
     "data": {
      "text/html": [
       "<div>\n",
       "<style scoped>\n",
       "    .dataframe tbody tr th:only-of-type {\n",
       "        vertical-align: middle;\n",
       "    }\n",
       "\n",
       "    .dataframe tbody tr th {\n",
       "        vertical-align: top;\n",
       "    }\n",
       "\n",
       "    .dataframe thead th {\n",
       "        text-align: right;\n",
       "    }\n",
       "</style>\n",
       "<table border=\"1\" class=\"dataframe\">\n",
       "  <thead>\n",
       "    <tr style=\"text-align: right;\">\n",
       "      <th></th>\n",
       "      <th>y_true</th>\n",
       "      <th>point prediction</th>\n",
       "      <th>lower</th>\n",
       "      <th>upper</th>\n",
       "    </tr>\n",
       "  </thead>\n",
       "  <tbody>\n",
       "    <tr>\n",
       "      <th>52383</th>\n",
       "      <td>-0.357397</td>\n",
       "      <td>-0.371867</td>\n",
       "      <td>-0.548514</td>\n",
       "      <td>-0.175873</td>\n",
       "    </tr>\n",
       "    <tr>\n",
       "      <th>44166</th>\n",
       "      <td>-0.593522</td>\n",
       "      <td>-0.630895</td>\n",
       "      <td>-0.645751</td>\n",
       "      <td>-0.556984</td>\n",
       "    </tr>\n",
       "    <tr>\n",
       "      <th>33620</th>\n",
       "      <td>-0.869754</td>\n",
       "      <td>-0.858872</td>\n",
       "      <td>-0.871464</td>\n",
       "      <td>-0.771070</td>\n",
       "    </tr>\n",
       "    <tr>\n",
       "      <th>16227</th>\n",
       "      <td>0.640497</td>\n",
       "      <td>0.728429</td>\n",
       "      <td>0.193658</td>\n",
       "      <td>1.023229</td>\n",
       "    </tr>\n",
       "    <tr>\n",
       "      <th>37037</th>\n",
       "      <td>-0.743419</td>\n",
       "      <td>-0.751369</td>\n",
       "      <td>-0.779456</td>\n",
       "      <td>-0.615430</td>\n",
       "    </tr>\n",
       "    <tr>\n",
       "      <th>...</th>\n",
       "      <td>...</td>\n",
       "      <td>...</td>\n",
       "      <td>...</td>\n",
       "      <td>...</td>\n",
       "    </tr>\n",
       "    <tr>\n",
       "      <th>13822</th>\n",
       "      <td>0.425928</td>\n",
       "      <td>0.713495</td>\n",
       "      <td>0.270030</td>\n",
       "      <td>1.214984</td>\n",
       "    </tr>\n",
       "    <tr>\n",
       "      <th>24296</th>\n",
       "      <td>2.158769</td>\n",
       "      <td>1.845325</td>\n",
       "      <td>0.592512</td>\n",
       "      <td>2.303648</td>\n",
       "    </tr>\n",
       "    <tr>\n",
       "      <th>13449</th>\n",
       "      <td>0.398355</td>\n",
       "      <td>0.231436</td>\n",
       "      <td>0.128357</td>\n",
       "      <td>0.737480</td>\n",
       "    </tr>\n",
       "    <tr>\n",
       "      <th>23330</th>\n",
       "      <td>1.865743</td>\n",
       "      <td>1.594611</td>\n",
       "      <td>0.373939</td>\n",
       "      <td>2.381572</td>\n",
       "    </tr>\n",
       "    <tr>\n",
       "      <th>11947</th>\n",
       "      <td>0.300596</td>\n",
       "      <td>0.278891</td>\n",
       "      <td>0.061277</td>\n",
       "      <td>0.505521</td>\n",
       "    </tr>\n",
       "  </tbody>\n",
       "</table>\n",
       "<p>5394 rows × 4 columns</p>\n",
       "</div>"
      ],
      "text/plain": [
       "         y_true  point prediction     lower     upper\n",
       "52383 -0.357397         -0.371867 -0.548514 -0.175873\n",
       "44166 -0.593522         -0.630895 -0.645751 -0.556984\n",
       "33620 -0.869754         -0.858872 -0.871464 -0.771070\n",
       "16227  0.640497          0.728429  0.193658  1.023229\n",
       "37037 -0.743419         -0.751369 -0.779456 -0.615430\n",
       "...         ...               ...       ...       ...\n",
       "13822  0.425928          0.713495  0.270030  1.214984\n",
       "24296  2.158769          1.845325  0.592512  2.303648\n",
       "13449  0.398355          0.231436  0.128357  0.737480\n",
       "23330  1.865743          1.594611  0.373939  2.381572\n",
       "11947  0.300596          0.278891  0.061277  0.505521\n",
       "\n",
       "[5394 rows x 4 columns]"
      ]
     },
     "execution_count": 144,
     "metadata": {},
     "output_type": "execute_result"
    }
   ],
   "source": [
    "import pandas as pd\n",
    "predictions = pd.DataFrame(y_test)\n",
    "predictions.columns = ['y_true']\n",
    "predictions[\"point prediction\"] = y_pred\n",
    "predictions[\"lower\"] = y_qr.reshape(-1,2)[:,0]\n",
    "predictions[\"upper\"] = y_qr.reshape(-1,2)[:,1]\n",
    "# take a quick look\n",
    "predictions"
   ]
  },
  {
   "cell_type": "code",
   "execution_count": 146,
   "metadata": {},
   "outputs": [
    {
     "data": {
      "image/png": "[encoded data removed]",
      "text/plain": [
       "<Figure size 640x480 with 1 Axes>"
      ]
     },
     "metadata": {},
     "output_type": "display_data"
    }
   ],
   "source": [
    "import matplotlib.pyplot as plt\n",
    "\n",
    "widths = y_qr[:,1] - y_qr[:,0]\n",
    "plt.hist(widths)\n",
    "# Label the x-axis\n",
    "plt.xlabel(\"Interval width\")\n",
    "# Label the y-axis\n",
    "plt.ylabel(\"Frequency\")\n",
    "plt.show()"
   ]
  },
  {
   "cell_type": "code",
   "execution_count": 147,
   "metadata": {},
   "outputs": [
    {
     "name": "stdout",
     "output_type": "stream",
     "text": [
      "Max difference: [3.72484391] at index: 27290\n",
      "Prediction interval: [0.40,4.13]\n",
      "true y: 3.4659825337627845\n",
      "\n",
      "Min difference: [0.03932413] at index: 34740\n",
      "Prediction interval: [-0.81,-0.77]\n",
      "true y: -0.7662299114993506\n",
      "\n",
      "\n"
     ]
    }
   ],
   "source": [
    "max_idx = np.argmax(widths)\n",
    "min_idx = np.argmin(widths)\n",
    "\n",
    "print(\"Max difference:\", widths[max_idx], \"at index:\", y_test.index[max_idx])\n",
    "print(f\"Prediction interval: [{predictions['lower'].iloc[max_idx]:.2f},{predictions['upper'].iloc[max_idx]:.2f}]\")\n",
    "print(f\"true y: {y_test.iloc[max_idx]}\\n\")\n",
    "\n",
    "# Sem intervalos negativos (quantil 0.9 menor que o quantil 0.1), como acontece no QuantileRegressor\n",
    "print(\"Min difference:\", widths[min_idx], \"at index:\", y_test.index[min_idx])\n",
    "print(f\"Prediction interval: [{predictions['lower'].iloc[min_idx]:.2f},{predictions['upper'].iloc[min_idx]:.2f}]\")\n",
    "print(f\"true y: {y_test.iloc[min_idx]}\\n\")\n",
    "\n",
    "print()\n"
   ]
  }
 ],
 "metadata": {
  "kernelspec": {
   "display_name": "base",
   "language": "python",
   "name": "python3"
  },
  "language_info": {
   "codemirror_mode": {
    "name": "ipython",
    "version": 3
   },
   "file_extension": ".py",
   "mimetype": "text/x-python",
   "name": "python",
   "nbconvert_exporter": "python",
   "pygments_lexer": "ipython3",
   "version": "3.12.7"
  }
 },
 "nbformat": 4,
 "nbformat_minor": 2
}
